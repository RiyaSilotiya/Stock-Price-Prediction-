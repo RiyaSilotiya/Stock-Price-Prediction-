{
 "cells": [
  {
   "cell_type": "code",
   "execution_count": 1,
   "id": "f52e2f61",
   "metadata": {},
   "outputs": [],
   "source": [
    "import numpy as np\n",
    "import matplotlib.pyplot as plt\n",
    "import pandas as pd"
   ]
  },
  {
   "cell_type": "code",
   "execution_count": 2,
   "id": "a94ae94d",
   "metadata": {},
   "outputs": [],
   "source": [
    "import tensorflow as tf"
   ]
  },
  {
   "cell_type": "code",
   "execution_count": 3,
   "id": "11d0b862",
   "metadata": {},
   "outputs": [
    {
     "data": {
      "text/plain": [
       "'2.10.0'"
      ]
     },
     "execution_count": 3,
     "metadata": {},
     "output_type": "execute_result"
    }
   ],
   "source": [
    "tf.__version__"
   ]
  },
  {
   "cell_type": "code",
   "execution_count": 4,
   "id": "0ec03d22",
   "metadata": {},
   "outputs": [],
   "source": [
    "dataset_train = pd.read_csv('apple_share_price.csv')\n",
    "training_set = dataset_train.iloc[:, :-1].values"
   ]
  },
  {
   "cell_type": "code",
   "execution_count": 5,
   "id": "fafcb7c7",
   "metadata": {},
   "outputs": [
    {
     "data": {
      "text/plain": [
       "array([['11-Aug-17', 156.6, 158.57, 156.07, 157.48],\n",
       "       ['10-Aug-17', 159.9, 160.0, 154.63, 155.32],\n",
       "       ['9-Aug-17', 159.26, 161.27, 159.11, 161.06],\n",
       "       ...,\n",
       "       ['5-Jan-11', 47.08, 47.76, 47.07, 47.71],\n",
       "       ['4-Jan-11', 47.49, 47.5, 46.88, 47.33],\n",
       "       ['3-Jan-11', 46.52, 47.18, 46.41, 47.08]], dtype=object)"
      ]
     },
     "execution_count": 5,
     "metadata": {},
     "output_type": "execute_result"
    }
   ],
   "source": [
    "training_set"
   ]
  },
  {
   "cell_type": "code",
   "execution_count": 6,
   "id": "35012f51",
   "metadata": {},
   "outputs": [
    {
     "data": {
      "text/html": [
       "<div>\n",
       "<style scoped>\n",
       "    .dataframe tbody tr th:only-of-type {\n",
       "        vertical-align: middle;\n",
       "    }\n",
       "\n",
       "    .dataframe tbody tr th {\n",
       "        vertical-align: top;\n",
       "    }\n",
       "\n",
       "    .dataframe thead th {\n",
       "        text-align: right;\n",
       "    }\n",
       "</style>\n",
       "<table border=\"1\" class=\"dataframe\">\n",
       "  <thead>\n",
       "    <tr style=\"text-align: right;\">\n",
       "      <th></th>\n",
       "      <th>Date</th>\n",
       "      <th>Open</th>\n",
       "      <th>High</th>\n",
       "      <th>Low</th>\n",
       "      <th>Close</th>\n",
       "      <th>Volume</th>\n",
       "    </tr>\n",
       "  </thead>\n",
       "  <tbody>\n",
       "    <tr>\n",
       "      <th>0</th>\n",
       "      <td>11-Aug-17</td>\n",
       "      <td>156.60</td>\n",
       "      <td>158.57</td>\n",
       "      <td>156.07</td>\n",
       "      <td>157.48</td>\n",
       "      <td>26257096</td>\n",
       "    </tr>\n",
       "    <tr>\n",
       "      <th>1</th>\n",
       "      <td>10-Aug-17</td>\n",
       "      <td>159.90</td>\n",
       "      <td>160.00</td>\n",
       "      <td>154.63</td>\n",
       "      <td>155.32</td>\n",
       "      <td>40804273</td>\n",
       "    </tr>\n",
       "    <tr>\n",
       "      <th>2</th>\n",
       "      <td>9-Aug-17</td>\n",
       "      <td>159.26</td>\n",
       "      <td>161.27</td>\n",
       "      <td>159.11</td>\n",
       "      <td>161.06</td>\n",
       "      <td>26131530</td>\n",
       "    </tr>\n",
       "    <tr>\n",
       "      <th>3</th>\n",
       "      <td>8-Aug-17</td>\n",
       "      <td>158.60</td>\n",
       "      <td>161.83</td>\n",
       "      <td>158.27</td>\n",
       "      <td>160.08</td>\n",
       "      <td>36205896</td>\n",
       "    </tr>\n",
       "    <tr>\n",
       "      <th>4</th>\n",
       "      <td>7-Aug-17</td>\n",
       "      <td>157.06</td>\n",
       "      <td>158.92</td>\n",
       "      <td>156.67</td>\n",
       "      <td>158.81</td>\n",
       "      <td>21870321</td>\n",
       "    </tr>\n",
       "    <tr>\n",
       "      <th>...</th>\n",
       "      <td>...</td>\n",
       "      <td>...</td>\n",
       "      <td>...</td>\n",
       "      <td>...</td>\n",
       "      <td>...</td>\n",
       "      <td>...</td>\n",
       "    </tr>\n",
       "    <tr>\n",
       "      <th>1659</th>\n",
       "      <td>7-Jan-11</td>\n",
       "      <td>47.71</td>\n",
       "      <td>48.05</td>\n",
       "      <td>47.41</td>\n",
       "      <td>48.02</td>\n",
       "      <td>77982212</td>\n",
       "    </tr>\n",
       "    <tr>\n",
       "      <th>1660</th>\n",
       "      <td>6-Jan-11</td>\n",
       "      <td>47.82</td>\n",
       "      <td>47.89</td>\n",
       "      <td>47.56</td>\n",
       "      <td>47.68</td>\n",
       "      <td>75106626</td>\n",
       "    </tr>\n",
       "    <tr>\n",
       "      <th>1661</th>\n",
       "      <td>5-Jan-11</td>\n",
       "      <td>47.08</td>\n",
       "      <td>47.76</td>\n",
       "      <td>47.07</td>\n",
       "      <td>47.71</td>\n",
       "      <td>63879193</td>\n",
       "    </tr>\n",
       "    <tr>\n",
       "      <th>1662</th>\n",
       "      <td>4-Jan-11</td>\n",
       "      <td>47.49</td>\n",
       "      <td>47.50</td>\n",
       "      <td>46.88</td>\n",
       "      <td>47.33</td>\n",
       "      <td>77337001</td>\n",
       "    </tr>\n",
       "    <tr>\n",
       "      <th>1663</th>\n",
       "      <td>3-Jan-11</td>\n",
       "      <td>46.52</td>\n",
       "      <td>47.18</td>\n",
       "      <td>46.41</td>\n",
       "      <td>47.08</td>\n",
       "      <td>111280407</td>\n",
       "    </tr>\n",
       "  </tbody>\n",
       "</table>\n",
       "<p>1664 rows × 6 columns</p>\n",
       "</div>"
      ],
      "text/plain": [
       "           Date    Open    High     Low   Close     Volume\n",
       "0     11-Aug-17  156.60  158.57  156.07  157.48   26257096\n",
       "1     10-Aug-17  159.90  160.00  154.63  155.32   40804273\n",
       "2      9-Aug-17  159.26  161.27  159.11  161.06   26131530\n",
       "3      8-Aug-17  158.60  161.83  158.27  160.08   36205896\n",
       "4      7-Aug-17  157.06  158.92  156.67  158.81   21870321\n",
       "...         ...     ...     ...     ...     ...        ...\n",
       "1659   7-Jan-11   47.71   48.05   47.41   48.02   77982212\n",
       "1660   6-Jan-11   47.82   47.89   47.56   47.68   75106626\n",
       "1661   5-Jan-11   47.08   47.76   47.07   47.71   63879193\n",
       "1662   4-Jan-11   47.49   47.50   46.88   47.33   77337001\n",
       "1663   3-Jan-11   46.52   47.18   46.41   47.08  111280407\n",
       "\n",
       "[1664 rows x 6 columns]"
      ]
     },
     "execution_count": 6,
     "metadata": {},
     "output_type": "execute_result"
    }
   ],
   "source": [
    "dataset_train"
   ]
  },
  {
   "cell_type": "code",
   "execution_count": 7,
   "id": "86eb7618",
   "metadata": {},
   "outputs": [
    {
     "data": {
      "text/plain": [
       "Date      0\n",
       "Open      0\n",
       "High      0\n",
       "Low       0\n",
       "Close     0\n",
       "Volume    0\n",
       "dtype: int64"
      ]
     },
     "execution_count": 7,
     "metadata": {},
     "output_type": "execute_result"
    }
   ],
   "source": [
    "# get the number of missing data points per column\n",
    "missing_values_count = dataset_train.isnull().sum()\n",
    "\n",
    "# look at the # of missing points in the first ten columns\n",
    "missing_values_count[0:10]"
   ]
  },
  {
   "cell_type": "code",
   "execution_count": 8,
   "id": "258a4729",
   "metadata": {},
   "outputs": [
    {
     "data": {
      "text/plain": [
       "<Axes: >"
      ]
     },
     "execution_count": 8,
     "metadata": {},
     "output_type": "execute_result"
    },
    {
     "data": {
      "image/png": "[encoded data removed]",
      "text/plain": [
       "<Figure size 640x480 with 1 Axes>"
      ]
     },
     "metadata": {},
     "output_type": "display_data"
    }
   ],
   "source": [
    "OHLC_avg = dataset_train[[ 'Open', 'High', 'Low','Close']].mean(axis = 1)\n",
    "\n",
    "OHLC_avg.plot()"
   ]
  },
  {
   "cell_type": "code",
   "execution_count": 9,
   "id": "58fbe9bf",
   "metadata": {},
   "outputs": [
    {
     "data": {
      "text/plain": [
       "0       157.1800\n",
       "1       157.4625\n",
       "2       160.1750\n",
       "3       159.6950\n",
       "4       157.8650\n",
       "          ...   \n",
       "1659     47.7975\n",
       "1660     47.7375\n",
       "1661     47.4050\n",
       "1662     47.3000\n",
       "1663     46.7975\n",
       "Length: 1664, dtype: float64"
      ]
     },
     "execution_count": 9,
     "metadata": {},
     "output_type": "execute_result"
    }
   ],
   "source": [
    "OHLC_avg"
   ]
  },
  {
   "cell_type": "code",
   "execution_count": 10,
   "id": "96e38a14",
   "metadata": {},
   "outputs": [
    {
     "data": {
      "text/plain": [
       "1664"
      ]
     },
     "execution_count": 10,
     "metadata": {},
     "output_type": "execute_result"
    }
   ],
   "source": [
    "len(OHLC_avg)"
   ]
  },
  {
   "cell_type": "code",
   "execution_count": 11,
   "id": "d3e02545",
   "metadata": {
    "scrolled": true
   },
   "outputs": [],
   "source": [
    "OHLC_avg= OHLC_avg.values.reshape(len(OHLC_avg),1)"
   ]
  },
  {
   "cell_type": "code",
   "execution_count": 12,
   "id": "a4bbcb74",
   "metadata": {},
   "outputs": [
    {
     "data": {
      "text/plain": [
       "array([[157.18  ],\n",
       "       [157.4625],\n",
       "       [160.175 ],\n",
       "       ...,\n",
       "       [ 47.405 ],\n",
       "       [ 47.3   ],\n",
       "       [ 46.7975]])"
      ]
     },
     "execution_count": 12,
     "metadata": {},
     "output_type": "execute_result"
    }
   ],
   "source": [
    "OHLC_avg"
   ]
  },
  {
   "cell_type": "code",
   "execution_count": 13,
   "id": "9e605bb8",
   "metadata": {},
   "outputs": [],
   "source": [
    "from sklearn.preprocessing import MinMaxScaler\n",
    "sc = MinMaxScaler(feature_range = (0, 1))\n",
    "OHLC_avg_scaled = sc.fit_transform(OHLC_avg)"
   ]
  },
  {
   "cell_type": "code",
   "execution_count": 14,
   "id": "e2ebb1ea",
   "metadata": {},
   "outputs": [
    {
     "data": {
      "text/plain": [
       "array([[0.97398819],\n",
       "       [0.97644172],\n",
       "       [1.        ],\n",
       "       ...,\n",
       "       [0.02058364],\n",
       "       [0.0196717 ],\n",
       "       [0.01530745]])"
      ]
     },
     "execution_count": 14,
     "metadata": {},
     "output_type": "execute_result"
    }
   ],
   "source": [
    "OHLC_avg_scaled"
   ]
  },
  {
   "cell_type": "code",
   "execution_count": 15,
   "id": "339e4e18",
   "metadata": {},
   "outputs": [],
   "source": [
    "from sklearn.model_selection import train_test_split\n",
    "X_train1, X_test1 = train_test_split(OHLC_avg_scaled ,test_size = 0.25, shuffle=False,random_state=42 )"
   ]
  },
  {
   "cell_type": "code",
   "execution_count": 16,
   "id": "7d17b357",
   "metadata": {},
   "outputs": [
    {
     "data": {
      "text/plain": [
       "array([[0.97398819],\n",
       "       [0.97644172],\n",
       "       [1.        ],\n",
       "       ...,\n",
       "       [0.44604395],\n",
       "       [0.44530571],\n",
       "       [0.44949627]])"
      ]
     },
     "execution_count": 16,
     "metadata": {},
     "output_type": "execute_result"
    }
   ],
   "source": [
    "X_train1"
   ]
  },
  {
   "cell_type": "code",
   "execution_count": 17,
   "id": "de8ea21a",
   "metadata": {},
   "outputs": [
    {
     "data": {
      "text/plain": [
       "1248"
      ]
     },
     "execution_count": 17,
     "metadata": {},
     "output_type": "execute_result"
    }
   ],
   "source": [
    "len(X_train1)"
   ]
  },
  {
   "cell_type": "code",
   "execution_count": 18,
   "id": "a32f72e4",
   "metadata": {},
   "outputs": [
    {
     "data": {
      "text/plain": [
       "416"
      ]
     },
     "execution_count": 18,
     "metadata": {},
     "output_type": "execute_result"
    }
   ],
   "source": [
    "len(X_test1)"
   ]
  },
  {
   "cell_type": "code",
   "execution_count": 19,
   "id": "6e8fbd84",
   "metadata": {},
   "outputs": [],
   "source": [
    "timestamp=10\n",
    "X_train = []\n",
    "y_train = []\n",
    "for i in range((timestamp), 1248):\n",
    "    X_train.append(X_train1[i-(timestamp):i, 0])\n",
    "    y_train.append(X_train1[i, 0])\n",
    "X_train, y_train = np.array(X_train), np.array(y_train)"
   ]
  },
  {
   "cell_type": "code",
   "execution_count": 20,
   "id": "e61f04a2",
   "metadata": {},
   "outputs": [],
   "source": [
    "X_test = []\n",
    "y_test = []\n",
    "for i in range((timestamp), 416):\n",
    "    X_test.append(X_test1[i-(timestamp):i, 0])\n",
    "    y_test.append(X_test1[i, 0])\n",
    "X_test, y_test = np.array(X_test), np.array(y_test)"
   ]
  },
  {
   "cell_type": "code",
   "execution_count": 21,
   "id": "f6a5be41",
   "metadata": {},
   "outputs": [
    {
     "data": {
      "text/plain": [
       "array([[0.97398819, 0.97644172, 1.        , ..., 0.98182647, 0.9068091 ,\n",
       "        0.90531093],\n",
       "       [0.97644172, 1.        , 0.99583116, ..., 0.9068091 , 0.90531093,\n",
       "        0.90904551],\n",
       "       [1.        , 0.99583116, 0.97993747, ..., 0.90531093, 0.90904551,\n",
       "        0.92378843],\n",
       "       ...,\n",
       "       [0.45277488, 0.43470992, 0.43158329, ..., 0.44026837, 0.43340716,\n",
       "        0.4367292 ],\n",
       "       [0.43470992, 0.43158329, 0.44283047, ..., 0.43340716, 0.4367292 ,\n",
       "        0.44604395],\n",
       "       [0.43158329, 0.44283047, 0.45155897, ..., 0.4367292 , 0.44604395,\n",
       "        0.44530571]])"
      ]
     },
     "execution_count": 21,
     "metadata": {},
     "output_type": "execute_result"
    }
   ],
   "source": [
    "X_train"
   ]
  },
  {
   "cell_type": "code",
   "execution_count": 22,
   "id": "6f22e24e",
   "metadata": {},
   "outputs": [
    {
     "name": "stdout",
     "output_type": "stream",
     "text": [
      "[[0.97398819 0.97644172 1.         ... 0.98182647 0.9068091  0.90531093]\n",
      " [0.97644172 1.         0.99583116 ... 0.9068091  0.90531093 0.90904551]\n",
      " [1.         0.99583116 0.97993747 ... 0.90531093 0.90904551 0.92378843]\n",
      " ...\n",
      " [0.45277488 0.43470992 0.43158329 ... 0.44026837 0.43340716 0.4367292 ]\n",
      " [0.43470992 0.43158329 0.44283047 ... 0.43340716 0.4367292  0.44604395]\n",
      " [0.43158329 0.44283047 0.45155897 ... 0.4367292  0.44604395 0.44530571]]\n"
     ]
    }
   ],
   "source": [
    "print(X_train)"
   ]
  },
  {
   "cell_type": "code",
   "execution_count": 23,
   "id": "955113d9",
   "metadata": {},
   "outputs": [
    {
     "data": {
      "text/plain": [
       "1238"
      ]
     },
     "execution_count": 23,
     "metadata": {},
     "output_type": "execute_result"
    }
   ],
   "source": [
    "X_train.shape[0]\n"
   ]
  },
  {
   "cell_type": "code",
   "execution_count": 24,
   "id": "ca7338ee",
   "metadata": {},
   "outputs": [
    {
     "data": {
      "text/plain": [
       "10"
      ]
     },
     "execution_count": 24,
     "metadata": {},
     "output_type": "execute_result"
    }
   ],
   "source": [
    "\n",
    "X_train.shape[1]"
   ]
  },
  {
   "cell_type": "code",
   "execution_count": 25,
   "id": "731eb804",
   "metadata": {},
   "outputs": [
    {
     "data": {
      "text/plain": [
       "(1238,)"
      ]
     },
     "execution_count": 25,
     "metadata": {},
     "output_type": "execute_result"
    }
   ],
   "source": [
    "y_train.shape"
   ]
  },
  {
   "cell_type": "code",
   "execution_count": 26,
   "id": "d2f3c213",
   "metadata": {},
   "outputs": [
    {
     "data": {
      "text/plain": [
       "array([[0.43017196, 0.43388484, 0.42787042, ..., 0.39174049, 0.39436773,\n",
       "        0.38639917],\n",
       "       [0.43388484, 0.42787042, 0.43147473, ..., 0.39436773, 0.38639917,\n",
       "        0.37838718],\n",
       "       [0.42787042, 0.43147473, 0.42470036, ..., 0.38639917, 0.37838718,\n",
       "        0.37754039],\n",
       "       ...,\n",
       "       [0.02375369, 0.03465347, 0.02477419, ..., 0.03122286, 0.02399253,\n",
       "        0.02347143],\n",
       "       [0.03465347, 0.02477419, 0.03916971, ..., 0.02399253, 0.02347143,\n",
       "        0.02058364],\n",
       "       [0.02477419, 0.03916971, 0.03732413, ..., 0.02347143, 0.02058364,\n",
       "        0.0196717 ]])"
      ]
     },
     "execution_count": 26,
     "metadata": {},
     "output_type": "execute_result"
    }
   ],
   "source": [
    "X_test"
   ]
  },
  {
   "cell_type": "code",
   "execution_count": 27,
   "id": "e5f45789",
   "metadata": {},
   "outputs": [
    {
     "data": {
      "text/plain": [
       "(406, 10)"
      ]
     },
     "execution_count": 27,
     "metadata": {},
     "output_type": "execute_result"
    }
   ],
   "source": [
    "X_test.shape"
   ]
  },
  {
   "cell_type": "code",
   "execution_count": 28,
   "id": "241c3621",
   "metadata": {},
   "outputs": [
    {
     "data": {
      "text/plain": [
       "array([0.37838718, 0.37754039, 0.37819177, 0.38021105, 0.37810492,\n",
       "       0.37156939, 0.35999653, 0.36638006, 0.36212437, 0.34497134,\n",
       "       0.32773146, 0.32395345, 0.32236842, 0.35843321, 0.35076863,\n",
       "       0.36431735, 0.36787824, 0.36099531, 0.36336199, 0.36218951,\n",
       "       0.35797725, 0.35185426, 0.35810752, 0.36922442, 0.36483846,\n",
       "       0.36043078, 0.36086503, 0.34966128, 0.33913062, 0.32857825,\n",
       "       0.3161803 , 0.32169533, 0.31770019, 0.32173875, 0.32810057,\n",
       "       0.33118378, 0.33593886, 0.33591714, 0.32692809, 0.31895953,\n",
       "       0.3172008 , 0.32089196, 0.32041428, 0.32788345, 0.32275925,\n",
       "       0.32128279, 0.3156592 , 0.30640959, 0.30421661, 0.31090412,\n",
       "       0.32582074, 0.32071826, 0.3168534 , 0.30716953, 0.31576776,\n",
       "       0.30803804, 0.30769064, 0.28858346, 0.26954143, 0.27668491,\n",
       "       0.29066788, 0.3004386 , 0.30551937, 0.31314052, 0.31900295,\n",
       "       0.31227202, 0.31235887, 0.31140351, 0.31789561, 0.33596057,\n",
       "       0.33233455, 0.33624283, 0.34190985, 0.35789039, 0.36531614,\n",
       "       0.36870332, 0.3054108 , 0.31472555, 0.3314009 , 0.34614382,\n",
       "       0.36727028, 0.34416797, 0.34670836, 0.37115685, 0.38420618,\n",
       "       0.39134966, 0.39623502, 0.39286955, 0.39015546, 0.38168751,\n",
       "       0.3878322 , 0.36562011, 0.35852006, 0.36770453, 0.37432691,\n",
       "       0.36664061, 0.35615338, 0.35102918, 0.35244051, 0.35836807,\n",
       "       0.35155029, 0.35029095, 0.33389786, 0.34206184, 0.33400643,\n",
       "       0.30664843, 0.29127584, 0.28513114, 0.27631579, 0.26912889,\n",
       "       0.26144259, 0.27640264, 0.28465347, 0.28495744, 0.28113601,\n",
       "       0.26789126, 0.25770801, 0.25516762, 0.24748133, 0.24494094,\n",
       "       0.24185774, 0.23334636, 0.22463957, 0.24012072, 0.2371678 ,\n",
       "       0.23017631, 0.22010162, 0.2140872 , 0.19623936, 0.18842279,\n",
       "       0.18132274, 0.17728418, 0.1740707 , 0.17624197, 0.1744181 ,\n",
       "       0.16657982, 0.16221556, 0.16251954, 0.16697064, 0.13314226,\n",
       "       0.13644259, 0.13461873, 0.1410674 , 0.13982977, 0.13550895,\n",
       "       0.12953795, 0.13162237, 0.13225204, 0.13511812, 0.13505298,\n",
       "       0.13125326, 0.12506514, 0.11985409, 0.11824735, 0.11082161,\n",
       "       0.10971426, 0.11108216, 0.11190724, 0.10706531, 0.10231023,\n",
       "       0.09972642, 0.09492791, 0.0834419 , 0.08192201, 0.08166146,\n",
       "       0.08402814, 0.09408112, 0.09488449, 0.09631753, 0.09518847,\n",
       "       0.09171443, 0.0950799 , 0.09686034, 0.09327775, 0.08661195,\n",
       "       0.08159632, 0.07354091, 0.07273754, 0.06372677, 0.06924179,\n",
       "       0.0730198 , 0.06700538, 0.07681952, 0.08079295, 0.08949974,\n",
       "       0.08611256, 0.08229112, 0.08661195, 0.09323432, 0.10124631,\n",
       "       0.11075647, 0.10383012, 0.10665277, 0.10543686, 0.10300504,\n",
       "       0.10098576, 0.11062619, 0.11036564, 0.11231978, 0.10454664,\n",
       "       0.10723901, 0.10637051, 0.09920532, 0.10200625, 0.10710874,\n",
       "       0.13147038, 0.13134011, 0.12877801, 0.11281918, 0.11101702,\n",
       "       0.10128973, 0.08496179, 0.07158676, 0.07638527, 0.06987146,\n",
       "       0.06889439, 0.0774709 , 0.08606913, 0.09924874, 0.10437294,\n",
       "       0.10990968, 0.10463349, 0.10862863, 0.1080641 , 0.12545597,\n",
       "       0.12460917, 0.11043078, 0.10254907, 0.09523189, 0.0909762 ,\n",
       "       0.08444068, 0.0759293 , 0.08109693, 0.08578687, 0.08565659,\n",
       "       0.07223814, 0.07371461, 0.08496179, 0.08945631, 0.09158416,\n",
       "       0.09201841, 0.07703665, 0.06770019, 0.07388831, 0.06314052,\n",
       "       0.05582335, 0.0559102 , 0.06511638, 0.08198715, 0.08077124,\n",
       "       0.08222599, 0.07688466, 0.06930693, 0.06546378, 0.06324909,\n",
       "       0.05419489, 0.07419229, 0.08513549, 0.09169272, 0.09308233,\n",
       "       0.10094233, 0.09190985, 0.09540559, 0.10142001, 0.10752128,\n",
       "       0.09846708, 0.09412454, 0.0890872 , 0.0943851 , 0.07625499,\n",
       "       0.06765677, 0.05871113, 0.05452058, 0.05328296, 0.04733368,\n",
       "       0.05024318, 0.0509597 , 0.05052545, 0.0435991 , 0.03840976,\n",
       "       0.0297464 , 0.02429651, 0.02399253, 0.02418795, 0.01854264,\n",
       "       0.01704447, 0.01209397, 0.01181171, 0.00681779, 0.        ,\n",
       "       0.01144259, 0.01181171, 0.01574171, 0.01984541, 0.01433038,\n",
       "       0.01632795, 0.02116988, 0.02125673, 0.02460049, 0.03345927,\n",
       "       0.03504429, 0.03843147, 0.04038562, 0.03621678, 0.02579468,\n",
       "       0.02525187, 0.02501303, 0.02295032, 0.02134358, 0.02785739,\n",
       "       0.03187424, 0.02866076, 0.02297203, 0.02646778, 0.03465347,\n",
       "       0.03758468, 0.04047247, 0.04147125, 0.04038562, 0.04081987,\n",
       "       0.04071131, 0.04203578, 0.04051589, 0.04064617, 0.04233976,\n",
       "       0.03947368, 0.04370766, 0.04572694, 0.04542296, 0.04600921,\n",
       "       0.03480545, 0.02473076, 0.01532916, 0.01867292, 0.02305888,\n",
       "       0.0244485 , 0.02043165, 0.02158242, 0.02733629, 0.02842192,\n",
       "       0.03081032, 0.02887789, 0.0333507 , 0.0401902 , 0.04025534,\n",
       "       0.04236147, 0.04179694, 0.04570523, 0.04268716, 0.03434949,\n",
       "       0.02905159, 0.03243877, 0.02768369, 0.0232543 , 0.02507817,\n",
       "       0.02490446, 0.03552197, 0.04763766, 0.04144954, 0.04014678,\n",
       "       0.04700799, 0.0494181 , 0.05237103, 0.05495484, 0.05321782,\n",
       "       0.04459788, 0.0456618 , 0.04642175, 0.038996  , 0.03395866,\n",
       "       0.03215651, 0.03191767, 0.04878843, 0.0531744 , 0.05842887,\n",
       "       0.05445545, 0.05308755, 0.05024318, 0.04930954, 0.05158937,\n",
       "       0.04826733, 0.04331683, 0.03702015, 0.03380667, 0.03617335,\n",
       "       0.03474032, 0.02744485, 0.03015894, 0.035218  , 0.03502258,\n",
       "       0.02879104, 0.02095275, 0.01891176, 0.02375369, 0.03465347,\n",
       "       0.02477419, 0.03916971, 0.03732413, 0.03508772, 0.03413236,\n",
       "       0.03122286, 0.02399253, 0.02347143, 0.02058364, 0.0196717 ,\n",
       "       0.01530745])"
      ]
     },
     "execution_count": 28,
     "metadata": {},
     "output_type": "execute_result"
    }
   ],
   "source": [
    "y_test"
   ]
  },
  {
   "cell_type": "code",
   "execution_count": 29,
   "id": "a3b0f454",
   "metadata": {},
   "outputs": [
    {
     "data": {
      "text/plain": [
       "(406,)"
      ]
     },
     "execution_count": 29,
     "metadata": {},
     "output_type": "execute_result"
    }
   ],
   "source": [
    "y_test.shape"
   ]
  },
  {
   "cell_type": "code",
   "execution_count": 30,
   "id": "f4a6e3be",
   "metadata": {},
   "outputs": [],
   "source": [
    "X_train = np.reshape(X_train, (X_train.shape[0], X_train.shape[1], 1))\n",
    "X_test = np.reshape(X_test, (X_test.shape[0], X_test.shape[1], 1))"
   ]
  },
  {
   "cell_type": "code",
   "execution_count": 31,
   "id": "dd98e37c",
   "metadata": {},
   "outputs": [
    {
     "data": {
      "text/plain": [
       "array([[[0.97398819],\n",
       "        [0.97644172],\n",
       "        [1.        ],\n",
       "        ...,\n",
       "        [0.98182647],\n",
       "        [0.9068091 ],\n",
       "        [0.90531093]],\n",
       "\n",
       "       [[0.97644172],\n",
       "        [1.        ],\n",
       "        [0.99583116],\n",
       "        ...,\n",
       "        [0.9068091 ],\n",
       "        [0.90531093],\n",
       "        [0.90904551]],\n",
       "\n",
       "       [[1.        ],\n",
       "        [0.99583116],\n",
       "        [0.97993747],\n",
       "        ...,\n",
       "        [0.90531093],\n",
       "        [0.90904551],\n",
       "        [0.92378843]],\n",
       "\n",
       "       ...,\n",
       "\n",
       "       [[0.45277488],\n",
       "        [0.43470992],\n",
       "        [0.43158329],\n",
       "        ...,\n",
       "        [0.44026837],\n",
       "        [0.43340716],\n",
       "        [0.4367292 ]],\n",
       "\n",
       "       [[0.43470992],\n",
       "        [0.43158329],\n",
       "        [0.44283047],\n",
       "        ...,\n",
       "        [0.43340716],\n",
       "        [0.4367292 ],\n",
       "        [0.44604395]],\n",
       "\n",
       "       [[0.43158329],\n",
       "        [0.44283047],\n",
       "        [0.45155897],\n",
       "        ...,\n",
       "        [0.4367292 ],\n",
       "        [0.44604395],\n",
       "        [0.44530571]]])"
      ]
     },
     "execution_count": 31,
     "metadata": {},
     "output_type": "execute_result"
    }
   ],
   "source": [
    "X_train"
   ]
  },
  {
   "cell_type": "code",
   "execution_count": 32,
   "id": "86b7e4c0",
   "metadata": {},
   "outputs": [
    {
     "data": {
      "text/plain": [
       "array([0.90904551, 0.92378843, 0.94159284, ..., 0.44604395, 0.44530571,\n",
       "       0.44949627])"
      ]
     },
     "execution_count": 32,
     "metadata": {},
     "output_type": "execute_result"
    }
   ],
   "source": [
    "y_train"
   ]
  },
  {
   "cell_type": "code",
   "execution_count": 33,
   "id": "8d37f54f",
   "metadata": {},
   "outputs": [
    {
     "data": {
      "text/plain": [
       "array([[[0.43017196],\n",
       "        [0.43388484],\n",
       "        [0.42787042],\n",
       "        ...,\n",
       "        [0.39174049],\n",
       "        [0.39436773],\n",
       "        [0.38639917]],\n",
       "\n",
       "       [[0.43388484],\n",
       "        [0.42787042],\n",
       "        [0.43147473],\n",
       "        ...,\n",
       "        [0.39436773],\n",
       "        [0.38639917],\n",
       "        [0.37838718]],\n",
       "\n",
       "       [[0.42787042],\n",
       "        [0.43147473],\n",
       "        [0.42470036],\n",
       "        ...,\n",
       "        [0.38639917],\n",
       "        [0.37838718],\n",
       "        [0.37754039]],\n",
       "\n",
       "       ...,\n",
       "\n",
       "       [[0.02375369],\n",
       "        [0.03465347],\n",
       "        [0.02477419],\n",
       "        ...,\n",
       "        [0.03122286],\n",
       "        [0.02399253],\n",
       "        [0.02347143]],\n",
       "\n",
       "       [[0.03465347],\n",
       "        [0.02477419],\n",
       "        [0.03916971],\n",
       "        ...,\n",
       "        [0.02399253],\n",
       "        [0.02347143],\n",
       "        [0.02058364]],\n",
       "\n",
       "       [[0.02477419],\n",
       "        [0.03916971],\n",
       "        [0.03732413],\n",
       "        ...,\n",
       "        [0.02347143],\n",
       "        [0.02058364],\n",
       "        [0.0196717 ]]])"
      ]
     },
     "execution_count": 33,
     "metadata": {},
     "output_type": "execute_result"
    }
   ],
   "source": [
    "X_test"
   ]
  },
  {
   "cell_type": "code",
   "execution_count": 34,
   "id": "b54e99c4",
   "metadata": {},
   "outputs": [
    {
     "data": {
      "text/plain": [
       "array([0.37838718, 0.37754039, 0.37819177, 0.38021105, 0.37810492,\n",
       "       0.37156939, 0.35999653, 0.36638006, 0.36212437, 0.34497134,\n",
       "       0.32773146, 0.32395345, 0.32236842, 0.35843321, 0.35076863,\n",
       "       0.36431735, 0.36787824, 0.36099531, 0.36336199, 0.36218951,\n",
       "       0.35797725, 0.35185426, 0.35810752, 0.36922442, 0.36483846,\n",
       "       0.36043078, 0.36086503, 0.34966128, 0.33913062, 0.32857825,\n",
       "       0.3161803 , 0.32169533, 0.31770019, 0.32173875, 0.32810057,\n",
       "       0.33118378, 0.33593886, 0.33591714, 0.32692809, 0.31895953,\n",
       "       0.3172008 , 0.32089196, 0.32041428, 0.32788345, 0.32275925,\n",
       "       0.32128279, 0.3156592 , 0.30640959, 0.30421661, 0.31090412,\n",
       "       0.32582074, 0.32071826, 0.3168534 , 0.30716953, 0.31576776,\n",
       "       0.30803804, 0.30769064, 0.28858346, 0.26954143, 0.27668491,\n",
       "       0.29066788, 0.3004386 , 0.30551937, 0.31314052, 0.31900295,\n",
       "       0.31227202, 0.31235887, 0.31140351, 0.31789561, 0.33596057,\n",
       "       0.33233455, 0.33624283, 0.34190985, 0.35789039, 0.36531614,\n",
       "       0.36870332, 0.3054108 , 0.31472555, 0.3314009 , 0.34614382,\n",
       "       0.36727028, 0.34416797, 0.34670836, 0.37115685, 0.38420618,\n",
       "       0.39134966, 0.39623502, 0.39286955, 0.39015546, 0.38168751,\n",
       "       0.3878322 , 0.36562011, 0.35852006, 0.36770453, 0.37432691,\n",
       "       0.36664061, 0.35615338, 0.35102918, 0.35244051, 0.35836807,\n",
       "       0.35155029, 0.35029095, 0.33389786, 0.34206184, 0.33400643,\n",
       "       0.30664843, 0.29127584, 0.28513114, 0.27631579, 0.26912889,\n",
       "       0.26144259, 0.27640264, 0.28465347, 0.28495744, 0.28113601,\n",
       "       0.26789126, 0.25770801, 0.25516762, 0.24748133, 0.24494094,\n",
       "       0.24185774, 0.23334636, 0.22463957, 0.24012072, 0.2371678 ,\n",
       "       0.23017631, 0.22010162, 0.2140872 , 0.19623936, 0.18842279,\n",
       "       0.18132274, 0.17728418, 0.1740707 , 0.17624197, 0.1744181 ,\n",
       "       0.16657982, 0.16221556, 0.16251954, 0.16697064, 0.13314226,\n",
       "       0.13644259, 0.13461873, 0.1410674 , 0.13982977, 0.13550895,\n",
       "       0.12953795, 0.13162237, 0.13225204, 0.13511812, 0.13505298,\n",
       "       0.13125326, 0.12506514, 0.11985409, 0.11824735, 0.11082161,\n",
       "       0.10971426, 0.11108216, 0.11190724, 0.10706531, 0.10231023,\n",
       "       0.09972642, 0.09492791, 0.0834419 , 0.08192201, 0.08166146,\n",
       "       0.08402814, 0.09408112, 0.09488449, 0.09631753, 0.09518847,\n",
       "       0.09171443, 0.0950799 , 0.09686034, 0.09327775, 0.08661195,\n",
       "       0.08159632, 0.07354091, 0.07273754, 0.06372677, 0.06924179,\n",
       "       0.0730198 , 0.06700538, 0.07681952, 0.08079295, 0.08949974,\n",
       "       0.08611256, 0.08229112, 0.08661195, 0.09323432, 0.10124631,\n",
       "       0.11075647, 0.10383012, 0.10665277, 0.10543686, 0.10300504,\n",
       "       0.10098576, 0.11062619, 0.11036564, 0.11231978, 0.10454664,\n",
       "       0.10723901, 0.10637051, 0.09920532, 0.10200625, 0.10710874,\n",
       "       0.13147038, 0.13134011, 0.12877801, 0.11281918, 0.11101702,\n",
       "       0.10128973, 0.08496179, 0.07158676, 0.07638527, 0.06987146,\n",
       "       0.06889439, 0.0774709 , 0.08606913, 0.09924874, 0.10437294,\n",
       "       0.10990968, 0.10463349, 0.10862863, 0.1080641 , 0.12545597,\n",
       "       0.12460917, 0.11043078, 0.10254907, 0.09523189, 0.0909762 ,\n",
       "       0.08444068, 0.0759293 , 0.08109693, 0.08578687, 0.08565659,\n",
       "       0.07223814, 0.07371461, 0.08496179, 0.08945631, 0.09158416,\n",
       "       0.09201841, 0.07703665, 0.06770019, 0.07388831, 0.06314052,\n",
       "       0.05582335, 0.0559102 , 0.06511638, 0.08198715, 0.08077124,\n",
       "       0.08222599, 0.07688466, 0.06930693, 0.06546378, 0.06324909,\n",
       "       0.05419489, 0.07419229, 0.08513549, 0.09169272, 0.09308233,\n",
       "       0.10094233, 0.09190985, 0.09540559, 0.10142001, 0.10752128,\n",
       "       0.09846708, 0.09412454, 0.0890872 , 0.0943851 , 0.07625499,\n",
       "       0.06765677, 0.05871113, 0.05452058, 0.05328296, 0.04733368,\n",
       "       0.05024318, 0.0509597 , 0.05052545, 0.0435991 , 0.03840976,\n",
       "       0.0297464 , 0.02429651, 0.02399253, 0.02418795, 0.01854264,\n",
       "       0.01704447, 0.01209397, 0.01181171, 0.00681779, 0.        ,\n",
       "       0.01144259, 0.01181171, 0.01574171, 0.01984541, 0.01433038,\n",
       "       0.01632795, 0.02116988, 0.02125673, 0.02460049, 0.03345927,\n",
       "       0.03504429, 0.03843147, 0.04038562, 0.03621678, 0.02579468,\n",
       "       0.02525187, 0.02501303, 0.02295032, 0.02134358, 0.02785739,\n",
       "       0.03187424, 0.02866076, 0.02297203, 0.02646778, 0.03465347,\n",
       "       0.03758468, 0.04047247, 0.04147125, 0.04038562, 0.04081987,\n",
       "       0.04071131, 0.04203578, 0.04051589, 0.04064617, 0.04233976,\n",
       "       0.03947368, 0.04370766, 0.04572694, 0.04542296, 0.04600921,\n",
       "       0.03480545, 0.02473076, 0.01532916, 0.01867292, 0.02305888,\n",
       "       0.0244485 , 0.02043165, 0.02158242, 0.02733629, 0.02842192,\n",
       "       0.03081032, 0.02887789, 0.0333507 , 0.0401902 , 0.04025534,\n",
       "       0.04236147, 0.04179694, 0.04570523, 0.04268716, 0.03434949,\n",
       "       0.02905159, 0.03243877, 0.02768369, 0.0232543 , 0.02507817,\n",
       "       0.02490446, 0.03552197, 0.04763766, 0.04144954, 0.04014678,\n",
       "       0.04700799, 0.0494181 , 0.05237103, 0.05495484, 0.05321782,\n",
       "       0.04459788, 0.0456618 , 0.04642175, 0.038996  , 0.03395866,\n",
       "       0.03215651, 0.03191767, 0.04878843, 0.0531744 , 0.05842887,\n",
       "       0.05445545, 0.05308755, 0.05024318, 0.04930954, 0.05158937,\n",
       "       0.04826733, 0.04331683, 0.03702015, 0.03380667, 0.03617335,\n",
       "       0.03474032, 0.02744485, 0.03015894, 0.035218  , 0.03502258,\n",
       "       0.02879104, 0.02095275, 0.01891176, 0.02375369, 0.03465347,\n",
       "       0.02477419, 0.03916971, 0.03732413, 0.03508772, 0.03413236,\n",
       "       0.03122286, 0.02399253, 0.02347143, 0.02058364, 0.0196717 ,\n",
       "       0.01530745])"
      ]
     },
     "execution_count": 34,
     "metadata": {},
     "output_type": "execute_result"
    }
   ],
   "source": [
    "y_test"
   ]
  },
  {
   "cell_type": "code",
   "execution_count": 35,
   "id": "c913727b",
   "metadata": {},
   "outputs": [
    {
     "name": "stdout",
     "output_type": "stream",
     "text": [
      "(1238, 10, 1)\n",
      "(1238,)\n",
      "(406, 10, 1)\n",
      "(406,)\n"
     ]
    },
    {
     "data": {
      "text/plain": [
       "(None, None, None, None)"
      ]
     },
     "execution_count": 35,
     "metadata": {},
     "output_type": "execute_result"
    }
   ],
   "source": [
    "print(X_train.shape), print(y_train.shape),print(X_test.shape), print(y_test.shape)"
   ]
  },
  {
   "cell_type": "code",
   "execution_count": 36,
   "id": "8a789919",
   "metadata": {},
   "outputs": [
    {
     "data": {
      "text/plain": [
       "10"
      ]
     },
     "execution_count": 36,
     "metadata": {},
     "output_type": "execute_result"
    }
   ],
   "source": [
    "X_train.shape[1]\n",
    "# timestamps=60"
   ]
  },
  {
   "cell_type": "code",
   "execution_count": 37,
   "id": "e04c254b",
   "metadata": {},
   "outputs": [],
   "source": [
    "from keras.models import Sequential\n",
    "from keras.layers import Dense\n",
    "from keras.layers import LSTM\n",
    "from keras.layers import Dropout"
   ]
  },
  {
   "cell_type": "code",
   "execution_count": 38,
   "id": "04b172ae",
   "metadata": {},
   "outputs": [],
   "source": [
    "regressor = Sequential()"
   ]
  },
  {
   "cell_type": "code",
   "execution_count": 39,
   "id": "edbb746d",
   "metadata": {},
   "outputs": [],
   "source": [
    "regressor.add(LSTM(units = 50, return_sequences = True, input_shape = (X_train.shape[1], 1)))\n",
    "regressor.add(Dropout(0.2))"
   ]
  },
  {
   "cell_type": "code",
   "execution_count": 40,
   "id": "e812ebff",
   "metadata": {},
   "outputs": [],
   "source": [
    "regressor.add(LSTM(units = 50, return_sequences = True))\n",
    "regressor.add(Dropout(0.2))"
   ]
  },
  {
   "cell_type": "code",
   "execution_count": 41,
   "id": "43387d2c",
   "metadata": {},
   "outputs": [],
   "source": [
    "regressor.add(LSTM(units = 50))\n",
    "regressor.add(Dropout(0.2))"
   ]
  },
  {
   "cell_type": "code",
   "execution_count": 42,
   "id": "220e95b5",
   "metadata": {},
   "outputs": [],
   "source": [
    "regressor.add(Dense(units = 1))"
   ]
  },
  {
   "cell_type": "code",
   "execution_count": 43,
   "id": "23903f30",
   "metadata": {},
   "outputs": [],
   "source": [
    "regressor.compile(optimizer = 'RMSProp', loss = 'mean_squared_error')"
   ]
  },
  {
   "cell_type": "code",
   "execution_count": 44,
   "id": "5f2fe628",
   "metadata": {},
   "outputs": [
    {
     "name": "stdout",
     "output_type": "stream",
     "text": [
      "Epoch 1/100\n",
      "39/39 [==============================] - 5s 24ms/step - loss: 0.0255\n",
      "Epoch 2/100\n",
      "39/39 [==============================] - 1s 24ms/step - loss: 0.0079\n",
      "Epoch 3/100\n",
      "39/39 [==============================] - 1s 24ms/step - loss: 0.0070\n",
      "Epoch 4/100\n",
      "39/39 [==============================] - 1s 24ms/step - loss: 0.0064\n",
      "Epoch 5/100\n",
      "39/39 [==============================] - 1s 24ms/step - loss: 0.0063\n",
      "Epoch 6/100\n",
      "39/39 [==============================] - 1s 24ms/step - loss: 0.0051\n",
      "Epoch 7/100\n",
      "39/39 [==============================] - 1s 24ms/step - loss: 0.0054\n",
      "Epoch 8/100\n",
      "39/39 [==============================] - 1s 24ms/step - loss: 0.0049\n",
      "Epoch 9/100\n",
      "39/39 [==============================] - 1s 24ms/step - loss: 0.0045\n",
      "Epoch 10/100\n",
      "39/39 [==============================] - 1s 24ms/step - loss: 0.0047\n",
      "Epoch 11/100\n",
      "39/39 [==============================] - 1s 24ms/step - loss: 0.0042\n",
      "Epoch 12/100\n",
      "39/39 [==============================] - 1s 24ms/step - loss: 0.0044\n",
      "Epoch 13/100\n",
      "39/39 [==============================] - 1s 24ms/step - loss: 0.0040\n",
      "Epoch 14/100\n",
      "39/39 [==============================] - 1s 24ms/step - loss: 0.0040\n",
      "Epoch 15/100\n",
      "39/39 [==============================] - 1s 24ms/step - loss: 0.0036\n",
      "Epoch 16/100\n",
      "39/39 [==============================] - 1s 24ms/step - loss: 0.0036\n",
      "Epoch 17/100\n",
      "39/39 [==============================] - 1s 24ms/step - loss: 0.0039\n",
      "Epoch 18/100\n",
      "39/39 [==============================] - 1s 24ms/step - loss: 0.0037\n",
      "Epoch 19/100\n",
      "39/39 [==============================] - 1s 24ms/step - loss: 0.0035\n",
      "Epoch 20/100\n",
      "39/39 [==============================] - 1s 24ms/step - loss: 0.0032\n",
      "Epoch 21/100\n",
      "39/39 [==============================] - 1s 24ms/step - loss: 0.0031\n",
      "Epoch 22/100\n",
      "39/39 [==============================] - 1s 24ms/step - loss: 0.0027\n",
      "Epoch 23/100\n",
      "39/39 [==============================] - 1s 24ms/step - loss: 0.0029\n",
      "Epoch 24/100\n",
      "39/39 [==============================] - 1s 24ms/step - loss: 0.0029\n",
      "Epoch 25/100\n",
      "39/39 [==============================] - 1s 24ms/step - loss: 0.0028\n",
      "Epoch 26/100\n",
      "39/39 [==============================] - 1s 24ms/step - loss: 0.0028\n",
      "Epoch 27/100\n",
      "39/39 [==============================] - 1s 24ms/step - loss: 0.0028\n",
      "Epoch 28/100\n",
      "39/39 [==============================] - 1s 24ms/step - loss: 0.0026\n",
      "Epoch 29/100\n",
      "39/39 [==============================] - 1s 24ms/step - loss: 0.0029\n",
      "Epoch 30/100\n",
      "39/39 [==============================] - 1s 24ms/step - loss: 0.0025\n",
      "Epoch 31/100\n",
      "39/39 [==============================] - 1s 24ms/step - loss: 0.0024\n",
      "Epoch 32/100\n",
      "39/39 [==============================] - 1s 24ms/step - loss: 0.0023\n",
      "Epoch 33/100\n",
      "39/39 [==============================] - 1s 24ms/step - loss: 0.0025\n",
      "Epoch 34/100\n",
      "39/39 [==============================] - 1s 23ms/step - loss: 0.0023\n",
      "Epoch 35/100\n",
      "39/39 [==============================] - 1s 24ms/step - loss: 0.0022\n",
      "Epoch 36/100\n",
      "39/39 [==============================] - 1s 24ms/step - loss: 0.0024\n",
      "Epoch 37/100\n",
      "39/39 [==============================] - 1s 24ms/step - loss: 0.0023\n",
      "Epoch 38/100\n",
      "39/39 [==============================] - 1s 24ms/step - loss: 0.0023\n",
      "Epoch 39/100\n",
      "39/39 [==============================] - 1s 24ms/step - loss: 0.0022\n",
      "Epoch 40/100\n",
      "39/39 [==============================] - 1s 24ms/step - loss: 0.0020\n",
      "Epoch 41/100\n",
      "39/39 [==============================] - 1s 24ms/step - loss: 0.0020\n",
      "Epoch 42/100\n",
      "39/39 [==============================] - 1s 24ms/step - loss: 0.0020\n",
      "Epoch 43/100\n",
      "39/39 [==============================] - 1s 24ms/step - loss: 0.0021\n",
      "Epoch 44/100\n",
      "39/39 [==============================] - 1s 24ms/step - loss: 0.0019\n",
      "Epoch 45/100\n",
      "39/39 [==============================] - 1s 23ms/step - loss: 0.0018\n",
      "Epoch 46/100\n",
      "39/39 [==============================] - 1s 24ms/step - loss: 0.0018\n",
      "Epoch 47/100\n",
      "39/39 [==============================] - 1s 24ms/step - loss: 0.0020\n",
      "Epoch 48/100\n",
      "39/39 [==============================] - 1s 24ms/step - loss: 0.0017\n",
      "Epoch 49/100\n",
      "39/39 [==============================] - 1s 24ms/step - loss: 0.0017\n",
      "Epoch 50/100\n",
      "39/39 [==============================] - 1s 24ms/step - loss: 0.0017\n",
      "Epoch 51/100\n",
      "39/39 [==============================] - 1s 24ms/step - loss: 0.0015\n",
      "Epoch 52/100\n",
      "39/39 [==============================] - 1s 24ms/step - loss: 0.0017\n",
      "Epoch 53/100\n",
      "39/39 [==============================] - 1s 24ms/step - loss: 0.0016\n",
      "Epoch 54/100\n",
      "39/39 [==============================] - 1s 24ms/step - loss: 0.0016\n",
      "Epoch 55/100\n",
      "39/39 [==============================] - 1s 24ms/step - loss: 0.0016\n",
      "Epoch 56/100\n",
      "39/39 [==============================] - 1s 24ms/step - loss: 0.0017\n",
      "Epoch 57/100\n",
      "39/39 [==============================] - 1s 24ms/step - loss: 0.0015\n",
      "Epoch 58/100\n",
      "39/39 [==============================] - 1s 24ms/step - loss: 0.0015\n",
      "Epoch 59/100\n",
      "39/39 [==============================] - 1s 24ms/step - loss: 0.0014\n",
      "Epoch 60/100\n",
      "39/39 [==============================] - 1s 24ms/step - loss: 0.0014\n",
      "Epoch 61/100\n",
      "39/39 [==============================] - 1s 24ms/step - loss: 0.0016\n",
      "Epoch 62/100\n",
      "39/39 [==============================] - 1s 24ms/step - loss: 0.0014\n",
      "Epoch 63/100\n",
      "39/39 [==============================] - 1s 24ms/step - loss: 0.0014\n",
      "Epoch 64/100\n",
      "39/39 [==============================] - 1s 24ms/step - loss: 0.0014\n",
      "Epoch 65/100\n",
      "39/39 [==============================] - 1s 24ms/step - loss: 0.0013\n",
      "Epoch 66/100\n",
      "39/39 [==============================] - 1s 24ms/step - loss: 0.0012\n",
      "Epoch 67/100\n",
      "39/39 [==============================] - 1s 24ms/step - loss: 0.0014\n",
      "Epoch 68/100\n",
      "39/39 [==============================] - 1s 24ms/step - loss: 0.0013\n",
      "Epoch 69/100\n",
      "39/39 [==============================] - 1s 23ms/step - loss: 0.0012\n",
      "Epoch 70/100\n",
      "39/39 [==============================] - 1s 24ms/step - loss: 0.0011\n",
      "Epoch 71/100\n",
      "39/39 [==============================] - 1s 24ms/step - loss: 0.0012\n",
      "Epoch 72/100\n",
      "39/39 [==============================] - 1s 24ms/step - loss: 0.0012\n",
      "Epoch 73/100\n",
      "39/39 [==============================] - 1s 24ms/step - loss: 0.0012\n",
      "Epoch 74/100\n",
      "39/39 [==============================] - 1s 24ms/step - loss: 0.0012\n",
      "Epoch 75/100\n",
      "39/39 [==============================] - 1s 24ms/step - loss: 0.0011\n",
      "Epoch 76/100\n",
      "39/39 [==============================] - 1s 24ms/step - loss: 0.0012\n",
      "Epoch 77/100\n",
      "39/39 [==============================] - 1s 24ms/step - loss: 0.0012\n",
      "Epoch 78/100\n",
      "39/39 [==============================] - 1s 24ms/step - loss: 0.0011\n",
      "Epoch 79/100\n",
      "39/39 [==============================] - 1s 24ms/step - loss: 0.0011\n",
      "Epoch 80/100\n",
      "39/39 [==============================] - 1s 24ms/step - loss: 0.0011\n",
      "Epoch 81/100\n",
      "39/39 [==============================] - 1s 24ms/step - loss: 0.0012\n",
      "Epoch 82/100\n",
      "39/39 [==============================] - 1s 24ms/step - loss: 0.0011\n",
      "Epoch 83/100\n",
      "39/39 [==============================] - 1s 24ms/step - loss: 0.0012\n",
      "Epoch 84/100\n",
      "39/39 [==============================] - 1s 24ms/step - loss: 0.0010\n",
      "Epoch 85/100\n",
      "39/39 [==============================] - 1s 24ms/step - loss: 0.0011\n",
      "Epoch 86/100\n",
      "39/39 [==============================] - 1s 24ms/step - loss: 0.0011\n",
      "Epoch 87/100\n",
      "39/39 [==============================] - 1s 24ms/step - loss: 0.0010\n",
      "Epoch 88/100\n",
      "39/39 [==============================] - 1s 24ms/step - loss: 0.0011\n",
      "Epoch 89/100\n",
      "39/39 [==============================] - 1s 24ms/step - loss: 0.0010\n",
      "Epoch 90/100\n",
      "39/39 [==============================] - 1s 24ms/step - loss: 9.7734e-04\n",
      "Epoch 91/100\n",
      "39/39 [==============================] - 1s 24ms/step - loss: 0.0010\n",
      "Epoch 92/100\n",
      "39/39 [==============================] - 1s 24ms/step - loss: 0.0010\n",
      "Epoch 93/100\n",
      "39/39 [==============================] - 1s 25ms/step - loss: 9.0665e-04\n",
      "Epoch 94/100\n",
      "39/39 [==============================] - 1s 24ms/step - loss: 9.5033e-04\n",
      "Epoch 95/100\n",
      "39/39 [==============================] - 1s 24ms/step - loss: 0.0010\n",
      "Epoch 96/100\n",
      "39/39 [==============================] - 1s 24ms/step - loss: 0.0010\n",
      "Epoch 97/100\n",
      "39/39 [==============================] - 1s 24ms/step - loss: 9.3925e-04\n",
      "Epoch 98/100\n",
      "39/39 [==============================] - 1s 24ms/step - loss: 9.3145e-04\n",
      "Epoch 99/100\n",
      "39/39 [==============================] - 1s 24ms/step - loss: 9.7479e-04\n",
      "Epoch 100/100\n"
     ]
    },
    {
     "name": "stdout",
     "output_type": "stream",
     "text": [
      "39/39 [==============================] - 1s 25ms/step - loss: 9.5926e-04\n"
     ]
    }
   ],
   "source": [
    "result=regressor.fit(X_train, y_train, epochs = 100, batch_size = 32)"
   ]
  },
  {
   "cell_type": "code",
   "execution_count": 45,
   "id": "ba93b30a",
   "metadata": {},
   "outputs": [
    {
     "name": "stdout",
     "output_type": "stream",
     "text": [
      "39/39 [==============================] - 2s 9ms/step\n"
     ]
    }
   ],
   "source": [
    "trainPredict = regressor.predict(X_train)\n"
   ]
  },
  {
   "cell_type": "code",
   "execution_count": 46,
   "id": "d60db2b4",
   "metadata": {},
   "outputs": [
    {
     "data": {
      "text/plain": [
       "(1238, 1)"
      ]
     },
     "execution_count": 46,
     "metadata": {},
     "output_type": "execute_result"
    }
   ],
   "source": [
    "trainPredict.shape"
   ]
  },
  {
   "cell_type": "code",
   "execution_count": 47,
   "id": "100ed41f",
   "metadata": {},
   "outputs": [
    {
     "data": {
      "text/plain": [
       "array([[0.90404165],\n",
       "       [0.89328617],\n",
       "       [0.8945739 ],\n",
       "       ...,\n",
       "       [0.43287978],\n",
       "       [0.43551448],\n",
       "       [0.43840247]], dtype=float32)"
      ]
     },
     "execution_count": 47,
     "metadata": {},
     "output_type": "execute_result"
    }
   ],
   "source": [
    "trainPredict"
   ]
  },
  {
   "cell_type": "code",
   "execution_count": 48,
   "id": "9a634f6a",
   "metadata": {},
   "outputs": [
    {
     "name": "stdout",
     "output_type": "stream",
     "text": [
      "13/13 [==============================] - 0s 10ms/step\n"
     ]
    }
   ],
   "source": [
    "testPredict = regressor.predict(X_test)"
   ]
  },
  {
   "cell_type": "code",
   "execution_count": 49,
   "id": "563dd252",
   "metadata": {},
   "outputs": [
    {
     "data": {
      "text/plain": [
       "(406, 1)"
      ]
     },
     "execution_count": 49,
     "metadata": {},
     "output_type": "execute_result"
    }
   ],
   "source": [
    "testPredict.shape"
   ]
  },
  {
   "cell_type": "code",
   "execution_count": 50,
   "id": "a012d2d9",
   "metadata": {},
   "outputs": [
    {
     "data": {
      "text/plain": [
       "array([[0.38801074],\n",
       "       [0.3826731 ],\n",
       "       [0.37848917],\n",
       "       [0.37647024],\n",
       "       [0.37654823],\n",
       "       [0.3764727 ],\n",
       "       [0.37403017],\n",
       "       [0.36769143],\n",
       "       [0.364654  ],\n",
       "       [0.36245462],\n",
       "       [0.35527682],\n",
       "       [0.34310013],\n",
       "       [0.3324973 ],\n",
       "       [0.32585138],\n",
       "       [0.33535135],\n",
       "       [0.3440569 ],\n",
       "       [0.3534479 ],\n",
       "       [0.36093965],\n",
       "       [0.3626286 ],\n",
       "       [0.3626813 ],\n",
       "       [0.36196288],\n",
       "       [0.3598456 ],\n",
       "       [0.35594454],\n",
       "       [0.35509112],\n",
       "       [0.35948178],\n",
       "       [0.3623782 ],\n",
       "       [0.36200714],\n",
       "       [0.36089954],\n",
       "       [0.35617882],\n",
       "       [0.34835723],\n",
       "       [0.33881873],\n",
       "       [0.32799482],\n",
       "       [0.32255888],\n",
       "       [0.3195863 ],\n",
       "       [0.319692  ],\n",
       "       [0.32291585],\n",
       "       [0.32698315],\n",
       "       [0.33138865],\n",
       "       [0.3342746 ],\n",
       "       [0.33248904],\n",
       "       [0.32710505],\n",
       "       [0.32201847],\n",
       "       [0.32025322],\n",
       "       [0.3200741 ],\n",
       "       [0.3229478 ],\n",
       "       [0.32399234],\n",
       "       [0.32342017],\n",
       "       [0.32064793],\n",
       "       [0.31501746],\n",
       "       [0.30977017],\n",
       "       [0.30893475],\n",
       "       [0.3150359 ],\n",
       "       [0.31935513],\n",
       "       [0.31991464],\n",
       "       [0.31576234],\n",
       "       [0.31459323],\n",
       "       [0.31238082],\n",
       "       [0.3103634 ],\n",
       "       [0.3026717 ],\n",
       "       [0.2893604 ],\n",
       "       [0.28147256],\n",
       "       [0.28325823],\n",
       "       [0.290891  ],\n",
       "       [0.2991402 ],\n",
       "       [0.30703148],\n",
       "       [0.31395304],\n",
       "       [0.3157246 ],\n",
       "       [0.31517553],\n",
       "       [0.31390345],\n",
       "       [0.31516302],\n",
       "       [0.3231051 ],\n",
       "       [0.3290647 ],\n",
       "       [0.3332938 ],\n",
       "       [0.33746004],\n",
       "       [0.3457151 ],\n",
       "       [0.3549138 ],\n",
       "       [0.36209723],\n",
       "       [0.34414312],\n",
       "       [0.3276173 ],\n",
       "       [0.32402787],\n",
       "       [0.33118647],\n",
       "       [0.3462903 ],\n",
       "       [0.35004255],\n",
       "       [0.34931758],\n",
       "       [0.35628298],\n",
       "       [0.36798725],\n",
       "       [0.37917602],\n",
       "       [0.38768268],\n",
       "       [0.39104232],\n",
       "       [0.3906441 ],\n",
       "       [0.38637155],\n",
       "       [0.38464358],\n",
       "       [0.37677974],\n",
       "       [0.36723635],\n",
       "       [0.36395267],\n",
       "       [0.3662986 ],\n",
       "       [0.36674842],\n",
       "       [0.36257482],\n",
       "       [0.35668543],\n",
       "       [0.35299316],\n",
       "       [0.35348013],\n",
       "       [0.35272607],\n",
       "       [0.35126168],\n",
       "       [0.3444873 ],\n",
       "       [0.34121525],\n",
       "       [0.33770248],\n",
       "       [0.32587087],\n",
       "       [0.31028295],\n",
       "       [0.2971887 ],\n",
       "       [0.28676397],\n",
       "       [0.27843285],\n",
       "       [0.27110058],\n",
       "       [0.27170762],\n",
       "       [0.277679  ],\n",
       "       [0.28312683],\n",
       "       [0.28491485],\n",
       "       [0.28034842],\n",
       "       [0.271946  ],\n",
       "       [0.26459736],\n",
       "       [0.25779337],\n",
       "       [0.2526913 ],\n",
       "       [0.2489582 ],\n",
       "       [0.2441152 ],\n",
       "       [0.23763567],\n",
       "       [0.23811229],\n",
       "       [0.23998913],\n",
       "       [0.23901698],\n",
       "       [0.2339845 ],\n",
       "       [0.22743765],\n",
       "       [0.21693908],\n",
       "       [0.20620513],\n",
       "       [0.19701087],\n",
       "       [0.19028579],\n",
       "       [0.18571095],\n",
       "       [0.18414503],\n",
       "       [0.18354404],\n",
       "       [0.18079914],\n",
       "       [0.17678435],\n",
       "       [0.17394154],\n",
       "       [0.1740548 ],\n",
       "       [0.16411954],\n",
       "       [0.15489988],\n",
       "       [0.14913335],\n",
       "       [0.14869358],\n",
       "       [0.14981957],\n",
       "       [0.14945884],\n",
       "       [0.14669114],\n",
       "       [0.14478055],\n",
       "       [0.14419705],\n",
       "       [0.14518438],\n",
       "       [0.14631507],\n",
       "       [0.14580503],\n",
       "       [0.14285794],\n",
       "       [0.13844721],\n",
       "       [0.13463657],\n",
       "       [0.13005915],\n",
       "       [0.12639898],\n",
       "       [0.12486173],\n",
       "       [0.1248825 ],\n",
       "       [0.12381546],\n",
       "       [0.1211141 ],\n",
       "       [0.11799027],\n",
       "       [0.11435315],\n",
       "       [0.1081423 ],\n",
       "       [0.10266528],\n",
       "       [0.09944516],\n",
       "       [0.09892046],\n",
       "       [0.10271616],\n",
       "       [0.10695527],\n",
       "       [0.11010504],\n",
       "       [0.11138381],\n",
       "       [0.11046015],\n",
       "       [0.11020046],\n",
       "       [0.11096397],\n",
       "       [0.11064307],\n",
       "       [0.10782969],\n",
       "       [0.10352395],\n",
       "       [0.09772971],\n",
       "       [0.09319553],\n",
       "       [0.08794734],\n",
       "       [0.08591667],\n",
       "       [0.08709988],\n",
       "       [0.08700645],\n",
       "       [0.08941954],\n",
       "       [0.0933322 ],\n",
       "       [0.0990873 ],\n",
       "       [0.10236353],\n",
       "       [0.10222328],\n",
       "       [0.10237166],\n",
       "       [0.10487695],\n",
       "       [0.10993965],\n",
       "       [0.11712041],\n",
       "       [0.1201846 ],\n",
       "       [0.12143095],\n",
       "       [0.12140027],\n",
       "       [0.12018426],\n",
       "       [0.11834097],\n",
       "       [0.12006468],\n",
       "       [0.12247755],\n",
       "       [0.12472267],\n",
       "       [0.12358902],\n",
       "       [0.12246215],\n",
       "       [0.12163718],\n",
       "       [0.11889103],\n",
       "       [0.11725648],\n",
       "       [0.11837164],\n",
       "       [0.12797804],\n",
       "       [0.137207  ],\n",
       "       [0.14171599],\n",
       "       [0.137782  ],\n",
       "       [0.13175981],\n",
       "       [0.12436649],\n",
       "       [0.1138756 ],\n",
       "       [0.10167277],\n",
       "       [0.09473753],\n",
       "       [0.09026974],\n",
       "       [0.08768749],\n",
       "       [0.0893572 ],\n",
       "       [0.09476289],\n",
       "       [0.10372187],\n",
       "       [0.1123592 ],\n",
       "       [0.11943473],\n",
       "       [0.12175658],\n",
       "       [0.1228472 ],\n",
       "       [0.12315799],\n",
       "       [0.12871762],\n",
       "       [0.13404545],\n",
       "       [0.13249943],\n",
       "       [0.12643722],\n",
       "       [0.1188316 ],\n",
       "       [0.1121361 ],\n",
       "       [0.10608786],\n",
       "       [0.09961876],\n",
       "       [0.09686393],\n",
       "       [0.09803981],\n",
       "       [0.10006475],\n",
       "       [0.09721398],\n",
       "       [0.09395754],\n",
       "       [0.09557831],\n",
       "       [0.09994417],\n",
       "       [0.10421512],\n",
       "       [0.10695958],\n",
       "       [0.10339765],\n",
       "       [0.09582111],\n",
       "       [0.09165624],\n",
       "       [0.08703136],\n",
       "       [0.08128598],\n",
       "       [0.07719526],\n",
       "       [0.07816368],\n",
       "       [0.08604687],\n",
       "       [0.09314796],\n",
       "       [0.09754202],\n",
       "       [0.09775153],\n",
       "       [0.09404483],\n",
       "       [0.08914015],\n",
       "       [0.08496353],\n",
       "       [0.0796977 ],\n",
       "       [0.0821318 ],\n",
       "       [0.09029213],\n",
       "       [0.09942311],\n",
       "       [0.10585859],\n",
       "       [0.11153068],\n",
       "       [0.11216472],\n",
       "       [0.11181049],\n",
       "       [0.11340879],\n",
       "       [0.11716445],\n",
       "       [0.11736219],\n",
       "       [0.11464876],\n",
       "       [0.11037852],\n",
       "       [0.10884418],\n",
       "       [0.1031635 ],\n",
       "       [0.09499043],\n",
       "       [0.08613473],\n",
       "       [0.07890141],\n",
       "       [0.0744465 ],\n",
       "       [0.07064787],\n",
       "       [0.06919101],\n",
       "       [0.06938201],\n",
       "       [0.06988743],\n",
       "       [0.06808573],\n",
       "       [0.06437984],\n",
       "       [0.05866808],\n",
       "       [0.05255747],\n",
       "       [0.04842782],\n",
       "       [0.04658401],\n",
       "       [0.04439139],\n",
       "       [0.04224157],\n",
       "       [0.03936559],\n",
       "       [0.03711987],\n",
       "       [0.03440234],\n",
       "       [0.03028896],\n",
       "       [0.03063986],\n",
       "       [0.03285536],\n",
       "       [0.03596961],\n",
       "       [0.03956047],\n",
       "       [0.04032505],\n",
       "       [0.04032189],\n",
       "       [0.04171345],\n",
       "       [0.04321983],\n",
       "       [0.04518723],\n",
       "       [0.04943356],\n",
       "       [0.0535672 ],\n",
       "       [0.05712745],\n",
       "       [0.05986053],\n",
       "       [0.06003144],\n",
       "       [0.05591398],\n",
       "       [0.05153558],\n",
       "       [0.04873857],\n",
       "       [0.04686138],\n",
       "       [0.0453912 ],\n",
       "       [0.04659006],\n",
       "       [0.04966837],\n",
       "       [0.05124086],\n",
       "       [0.04980135],\n",
       "       [0.04889014],\n",
       "       [0.05125076],\n",
       "       [0.05493993],\n",
       "       [0.05856058],\n",
       "       [0.06114462],\n",
       "       [0.06209716],\n",
       "       [0.06228524],\n",
       "       [0.06216019],\n",
       "       [0.06239697],\n",
       "       [0.06221944],\n",
       "       [0.06195903],\n",
       "       [0.06231767],\n",
       "       [0.06188735],\n",
       "       [0.06259412],\n",
       "       [0.06418729],\n",
       "       [0.06539512],\n",
       "       [0.06617063],\n",
       "       [0.06301144],\n",
       "       [0.05629826],\n",
       "       [0.04783764],\n",
       "       [0.04284483],\n",
       "       [0.04240212],\n",
       "       [0.04410851],\n",
       "       [0.04455698],\n",
       "       [0.04462978],\n",
       "       [0.04644486],\n",
       "       [0.04867476],\n",
       "       [0.05092022],\n",
       "       [0.05177039],\n",
       "       [0.05318701],\n",
       "       [0.05657861],\n",
       "       [0.05952483],\n",
       "       [0.06180504],\n",
       "       [0.06288847],\n",
       "       [0.06439927],\n",
       "       [0.0646601 ],\n",
       "       [0.06167662],\n",
       "       [0.05688652],\n",
       "       [0.05429959],\n",
       "       [0.05207384],\n",
       "       [0.04922211],\n",
       "       [0.0476791 ],\n",
       "       [0.04718441],\n",
       "       [0.05052537],\n",
       "       [0.05798969],\n",
       "       [0.06225312],\n",
       "       [0.06314766],\n",
       "       [0.06482399],\n",
       "       [0.06716526],\n",
       "       [0.06979001],\n",
       "       [0.07237962],\n",
       "       [0.07348177],\n",
       "       [0.07090017],\n",
       "       [0.06821987],\n",
       "       [0.06688011],\n",
       "       [0.06415385],\n",
       "       [0.06017342],\n",
       "       [0.05662262],\n",
       "       [0.05446774],\n",
       "       [0.05889243],\n",
       "       [0.06566149],\n",
       "       [0.07223776],\n",
       "       [0.07507938],\n",
       "       [0.07509559],\n",
       "       [0.07333797],\n",
       "       [0.0713425 ],\n",
       "       [0.07074618],\n",
       "       [0.06984401],\n",
       "       [0.06748688],\n",
       "       [0.06344393],\n",
       "       [0.05922562],\n",
       "       [0.05724311],\n",
       "       [0.05637085],\n",
       "       [0.05381235],\n",
       "       [0.05228829],\n",
       "       [0.05341458],\n",
       "       [0.05505526],\n",
       "       [0.05420902],\n",
       "       [0.05023074],\n",
       "       [0.04593727],\n",
       "       [0.04470235],\n",
       "       [0.04851982],\n",
       "       [0.04968321],\n",
       "       [0.05363482],\n",
       "       [0.0569399 ],\n",
       "       [0.05794156],\n",
       "       [0.05745408],\n",
       "       [0.05577534],\n",
       "       [0.05202153],\n",
       "       [0.04865661],\n",
       "       [0.04583064],\n",
       "       [0.04387075]], dtype=float32)"
      ]
     },
     "execution_count": 50,
     "metadata": {},
     "output_type": "execute_result"
    }
   ],
   "source": [
    "testPredict"
   ]
  },
  {
   "cell_type": "code",
   "execution_count": 51,
   "id": "751b0ca0",
   "metadata": {},
   "outputs": [],
   "source": [
    "train_predict=sc.inverse_transform(trainPredict)\n",
    "y_train=sc.inverse_transform([y_train])\n",
    "test_predict=sc.inverse_transform(testPredict)\n",
    "y_test=sc.inverse_transform([y_test])"
   ]
  },
  {
   "cell_type": "code",
   "execution_count": 54,
   "id": "fc04cd53",
   "metadata": {},
   "outputs": [
    {
     "data": {
      "text/plain": [
       "(1, 406)"
      ]
     },
     "execution_count": 54,
     "metadata": {},
     "output_type": "execute_result"
    }
   ],
   "source": [
    "y_test.shape"
   ]
  },
  {
   "cell_type": "code",
   "execution_count": 55,
   "id": "5af079ee",
   "metadata": {},
   "outputs": [],
   "source": [
    "y_test=y_test.reshape(-1,1)"
   ]
  },
  {
   "cell_type": "code",
   "execution_count": 56,
   "id": "353ac2c2",
   "metadata": {},
   "outputs": [
    {
     "data": {
      "text/plain": [
       "(406, 10, 1)"
      ]
     },
     "execution_count": 56,
     "metadata": {},
     "output_type": "execute_result"
    }
   ],
   "source": [
    "X_test.shape"
   ]
  },
  {
   "cell_type": "code",
   "execution_count": 57,
   "id": "528627ca",
   "metadata": {},
   "outputs": [
    {
     "data": {
      "text/plain": [
       "array([[88.6025],\n",
       "       [88.505 ],\n",
       "       [88.58  ],\n",
       "       [88.8125],\n",
       "       [88.57  ],\n",
       "       [87.8175],\n",
       "       [86.485 ],\n",
       "       [87.22  ],\n",
       "       [86.73  ],\n",
       "       [84.755 ],\n",
       "       [82.77  ],\n",
       "       [82.335 ],\n",
       "       [82.1525],\n",
       "       [86.305 ],\n",
       "       [85.4225],\n",
       "       [86.9825],\n",
       "       [87.3925],\n",
       "       [86.6   ],\n",
       "       [86.8725],\n",
       "       [86.7375],\n",
       "       [86.2525],\n",
       "       [85.5475],\n",
       "       [86.2675],\n",
       "       [87.5475],\n",
       "       [87.0425],\n",
       "       [86.535 ],\n",
       "       [86.585 ],\n",
       "       [85.295 ],\n",
       "       [84.0825],\n",
       "       [82.8675],\n",
       "       [81.44  ],\n",
       "       [82.075 ],\n",
       "       [81.615 ],\n",
       "       [82.08  ],\n",
       "       [82.8125],\n",
       "       [83.1675],\n",
       "       [83.715 ],\n",
       "       [83.7125],\n",
       "       [82.6775],\n",
       "       [81.76  ],\n",
       "       [81.5575],\n",
       "       [81.9825],\n",
       "       [81.9275],\n",
       "       [82.7875],\n",
       "       [82.1975],\n",
       "       [82.0275],\n",
       "       [81.38  ],\n",
       "       [80.315 ],\n",
       "       [80.0625],\n",
       "       [80.8325],\n",
       "       [82.55  ],\n",
       "       [81.9625],\n",
       "       [81.5175],\n",
       "       [80.4025],\n",
       "       [81.3925],\n",
       "       [80.5025],\n",
       "       [80.4625],\n",
       "       [78.2625],\n",
       "       [76.07  ],\n",
       "       [76.8925],\n",
       "       [78.5025],\n",
       "       [79.6275],\n",
       "       [80.2125],\n",
       "       [81.09  ],\n",
       "       [81.765 ],\n",
       "       [80.99  ],\n",
       "       [81.    ],\n",
       "       [80.89  ],\n",
       "       [81.6375],\n",
       "       [83.7175],\n",
       "       [83.3   ],\n",
       "       [83.75  ],\n",
       "       [84.4025],\n",
       "       [86.2425],\n",
       "       [87.0975],\n",
       "       [87.4875],\n",
       "       [80.2   ],\n",
       "       [81.2725],\n",
       "       [83.1925],\n",
       "       [84.89  ],\n",
       "       [87.3225],\n",
       "       [84.6625],\n",
       "       [84.955 ],\n",
       "       [87.77  ],\n",
       "       [89.2725],\n",
       "       [90.095 ],\n",
       "       [90.6575],\n",
       "       [90.27  ],\n",
       "       [89.9575],\n",
       "       [88.9825],\n",
       "       [89.69  ],\n",
       "       [87.1325],\n",
       "       [86.315 ],\n",
       "       [87.3725],\n",
       "       [88.135 ],\n",
       "       [87.25  ],\n",
       "       [86.0425],\n",
       "       [85.4525],\n",
       "       [85.615 ],\n",
       "       [86.2975],\n",
       "       [85.5125],\n",
       "       [85.3675],\n",
       "       [83.48  ],\n",
       "       [84.42  ],\n",
       "       [83.4925],\n",
       "       [80.3425],\n",
       "       [78.5725],\n",
       "       [77.865 ],\n",
       "       [76.85  ],\n",
       "       [76.0225],\n",
       "       [75.1375],\n",
       "       [76.86  ],\n",
       "       [77.81  ],\n",
       "       [77.845 ],\n",
       "       [77.405 ],\n",
       "       [75.88  ],\n",
       "       [74.7075],\n",
       "       [74.415 ],\n",
       "       [73.53  ],\n",
       "       [73.2375],\n",
       "       [72.8825],\n",
       "       [71.9025],\n",
       "       [70.9   ],\n",
       "       [72.6825],\n",
       "       [72.3425],\n",
       "       [71.5375],\n",
       "       [70.3775],\n",
       "       [69.685 ],\n",
       "       [67.63  ],\n",
       "       [66.73  ],\n",
       "       [65.9125],\n",
       "       [65.4475],\n",
       "       [65.0775],\n",
       "       [65.3275],\n",
       "       [65.1175],\n",
       "       [64.215 ],\n",
       "       [63.7125],\n",
       "       [63.7475],\n",
       "       [64.26  ],\n",
       "       [60.365 ],\n",
       "       [60.745 ],\n",
       "       [60.535 ],\n",
       "       [61.2775],\n",
       "       [61.135 ],\n",
       "       [60.6375],\n",
       "       [59.95  ],\n",
       "       [60.19  ],\n",
       "       [60.2625],\n",
       "       [60.5925],\n",
       "       [60.585 ],\n",
       "       [60.1475],\n",
       "       [59.435 ],\n",
       "       [58.835 ],\n",
       "       [58.65  ],\n",
       "       [57.795 ],\n",
       "       [57.6675],\n",
       "       [57.825 ],\n",
       "       [57.92  ],\n",
       "       [57.3625],\n",
       "       [56.815 ],\n",
       "       [56.5175],\n",
       "       [55.965 ],\n",
       "       [54.6425],\n",
       "       [54.4675],\n",
       "       [54.4375],\n",
       "       [54.71  ],\n",
       "       [55.8675],\n",
       "       [55.96  ],\n",
       "       [56.125 ],\n",
       "       [55.995 ],\n",
       "       [55.595 ],\n",
       "       [55.9825],\n",
       "       [56.1875],\n",
       "       [55.775 ],\n",
       "       [55.0075],\n",
       "       [54.43  ],\n",
       "       [53.5025],\n",
       "       [53.41  ],\n",
       "       [52.3725],\n",
       "       [53.0075],\n",
       "       [53.4425],\n",
       "       [52.75  ],\n",
       "       [53.88  ],\n",
       "       [54.3375],\n",
       "       [55.34  ],\n",
       "       [54.95  ],\n",
       "       [54.51  ],\n",
       "       [55.0075],\n",
       "       [55.77  ],\n",
       "       [56.6925],\n",
       "       [57.7875],\n",
       "       [56.99  ],\n",
       "       [57.315 ],\n",
       "       [57.175 ],\n",
       "       [56.895 ],\n",
       "       [56.6625],\n",
       "       [57.7725],\n",
       "       [57.7425],\n",
       "       [57.9675],\n",
       "       [57.0725],\n",
       "       [57.3825],\n",
       "       [57.2825],\n",
       "       [56.4575],\n",
       "       [56.78  ],\n",
       "       [57.3675],\n",
       "       [60.1725],\n",
       "       [60.1575],\n",
       "       [59.8625],\n",
       "       [58.025 ],\n",
       "       [57.8175],\n",
       "       [56.6975],\n",
       "       [54.8175],\n",
       "       [53.2775],\n",
       "       [53.83  ],\n",
       "       [53.08  ],\n",
       "       [52.9675],\n",
       "       [53.955 ],\n",
       "       [54.945 ],\n",
       "       [56.4625],\n",
       "       [57.0525],\n",
       "       [57.69  ],\n",
       "       [57.0825],\n",
       "       [57.5425],\n",
       "       [57.4775],\n",
       "       [59.48  ],\n",
       "       [59.3825],\n",
       "       [57.75  ],\n",
       "       [56.8425],\n",
       "       [56.    ],\n",
       "       [55.51  ],\n",
       "       [54.7575],\n",
       "       [53.7775],\n",
       "       [54.3725],\n",
       "       [54.9125],\n",
       "       [54.8975],\n",
       "       [53.3525],\n",
       "       [53.5225],\n",
       "       [54.8175],\n",
       "       [55.335 ],\n",
       "       [55.58  ],\n",
       "       [55.63  ],\n",
       "       [53.905 ],\n",
       "       [52.83  ],\n",
       "       [53.5425],\n",
       "       [52.305 ],\n",
       "       [51.4625],\n",
       "       [51.4725],\n",
       "       [52.5325],\n",
       "       [54.475 ],\n",
       "       [54.335 ],\n",
       "       [54.5025],\n",
       "       [53.8875],\n",
       "       [53.015 ],\n",
       "       [52.5725],\n",
       "       [52.3175],\n",
       "       [51.275 ],\n",
       "       [53.5775],\n",
       "       [54.8375],\n",
       "       [55.5925],\n",
       "       [55.7525],\n",
       "       [56.6575],\n",
       "       [55.6175],\n",
       "       [56.02  ],\n",
       "       [56.7125],\n",
       "       [57.415 ],\n",
       "       [56.3725],\n",
       "       [55.8725],\n",
       "       [55.2925],\n",
       "       [55.9025],\n",
       "       [53.815 ],\n",
       "       [52.825 ],\n",
       "       [51.795 ],\n",
       "       [51.3125],\n",
       "       [51.17  ],\n",
       "       [50.485 ],\n",
       "       [50.82  ],\n",
       "       [50.9025],\n",
       "       [50.8525],\n",
       "       [50.055 ],\n",
       "       [49.4575],\n",
       "       [48.46  ],\n",
       "       [47.8325],\n",
       "       [47.7975],\n",
       "       [47.82  ],\n",
       "       [47.17  ],\n",
       "       [46.9975],\n",
       "       [46.4275],\n",
       "       [46.395 ],\n",
       "       [45.82  ],\n",
       "       [45.035 ],\n",
       "       [46.3525],\n",
       "       [46.395 ],\n",
       "       [46.8475],\n",
       "       [47.32  ],\n",
       "       [46.685 ],\n",
       "       [46.915 ],\n",
       "       [47.4725],\n",
       "       [47.4825],\n",
       "       [47.8675],\n",
       "       [48.8875],\n",
       "       [49.07  ],\n",
       "       [49.46  ],\n",
       "       [49.685 ],\n",
       "       [49.205 ],\n",
       "       [48.005 ],\n",
       "       [47.9425],\n",
       "       [47.915 ],\n",
       "       [47.6775],\n",
       "       [47.4925],\n",
       "       [48.2425],\n",
       "       [48.705 ],\n",
       "       [48.335 ],\n",
       "       [47.68  ],\n",
       "       [48.0825],\n",
       "       [49.025 ],\n",
       "       [49.3625],\n",
       "       [49.695 ],\n",
       "       [49.81  ],\n",
       "       [49.685 ],\n",
       "       [49.735 ],\n",
       "       [49.7225],\n",
       "       [49.875 ],\n",
       "       [49.7   ],\n",
       "       [49.715 ],\n",
       "       [49.91  ],\n",
       "       [49.58  ],\n",
       "       [50.0675],\n",
       "       [50.3   ],\n",
       "       [50.265 ],\n",
       "       [50.3325],\n",
       "       [49.0425],\n",
       "       [47.8825],\n",
       "       [46.8   ],\n",
       "       [47.185 ],\n",
       "       [47.69  ],\n",
       "       [47.85  ],\n",
       "       [47.3875],\n",
       "       [47.52  ],\n",
       "       [48.1825],\n",
       "       [48.3075],\n",
       "       [48.5825],\n",
       "       [48.36  ],\n",
       "       [48.875 ],\n",
       "       [49.6625],\n",
       "       [49.67  ],\n",
       "       [49.9125],\n",
       "       [49.8475],\n",
       "       [50.2975],\n",
       "       [49.95  ],\n",
       "       [48.99  ],\n",
       "       [48.38  ],\n",
       "       [48.77  ],\n",
       "       [48.2225],\n",
       "       [47.7125],\n",
       "       [47.9225],\n",
       "       [47.9025],\n",
       "       [49.125 ],\n",
       "       [50.52  ],\n",
       "       [49.8075],\n",
       "       [49.6575],\n",
       "       [50.4475],\n",
       "       [50.725 ],\n",
       "       [51.065 ],\n",
       "       [51.3625],\n",
       "       [51.1625],\n",
       "       [50.17  ],\n",
       "       [50.2925],\n",
       "       [50.38  ],\n",
       "       [49.525 ],\n",
       "       [48.945 ],\n",
       "       [48.7375],\n",
       "       [48.71  ],\n",
       "       [50.6525],\n",
       "       [51.1575],\n",
       "       [51.7625],\n",
       "       [51.305 ],\n",
       "       [51.1475],\n",
       "       [50.82  ],\n",
       "       [50.7125],\n",
       "       [50.975 ],\n",
       "       [50.5925],\n",
       "       [50.0225],\n",
       "       [49.2975],\n",
       "       [48.9275],\n",
       "       [49.2   ],\n",
       "       [49.035 ],\n",
       "       [48.195 ],\n",
       "       [48.5075],\n",
       "       [49.09  ],\n",
       "       [49.0675],\n",
       "       [48.35  ],\n",
       "       [47.4475],\n",
       "       [47.2125],\n",
       "       [47.77  ],\n",
       "       [49.025 ],\n",
       "       [47.8875],\n",
       "       [49.545 ],\n",
       "       [49.3325],\n",
       "       [49.075 ],\n",
       "       [48.965 ],\n",
       "       [48.63  ],\n",
       "       [47.7975],\n",
       "       [47.7375],\n",
       "       [47.405 ],\n",
       "       [47.3   ],\n",
       "       [46.7975]])"
      ]
     },
     "execution_count": 57,
     "metadata": {},
     "output_type": "execute_result"
    }
   ],
   "source": [
    "y_test\n"
   ]
  },
  {
   "cell_type": "code",
   "execution_count": 58,
   "id": "b3267e51",
   "metadata": {},
   "outputs": [
    {
     "data": {
      "text/plain": [
       "(406, 10, 1)"
      ]
     },
     "execution_count": 58,
     "metadata": {},
     "output_type": "execute_result"
    }
   ],
   "source": [
    "X_test.shape"
   ]
  },
  {
   "cell_type": "code",
   "execution_count": 59,
   "id": "8f0e43d2",
   "metadata": {},
   "outputs": [
    {
     "data": {
      "text/plain": [
       "(1238, 1)"
      ]
     },
     "execution_count": 59,
     "metadata": {},
     "output_type": "execute_result"
    }
   ],
   "source": [
    "train_predict.shape"
   ]
  },
  {
   "cell_type": "code",
   "execution_count": 60,
   "id": "9457e4ad",
   "metadata": {},
   "outputs": [
    {
     "data": {
      "text/plain": [
       "(406, 1)"
      ]
     },
     "execution_count": 60,
     "metadata": {},
     "output_type": "execute_result"
    }
   ],
   "source": [
    "test_predict.shape"
   ]
  },
  {
   "cell_type": "code",
   "execution_count": 61,
   "id": "756ed7b7",
   "metadata": {},
   "outputs": [
    {
     "data": {
      "text/plain": [
       "array([[89.710556],\n",
       "       [89.095985],\n",
       "       [88.61424 ],\n",
       "       [88.38179 ],\n",
       "       [88.39076 ],\n",
       "       [88.382065],\n",
       "       [88.10084 ],\n",
       "       [87.370995],\n",
       "       [87.02126 ],\n",
       "       [86.76803 ],\n",
       "       [85.941574],\n",
       "       [84.53955 ],\n",
       "       [83.31874 ],\n",
       "       [82.55353 ],\n",
       "       [83.647354],\n",
       "       [84.64971 ],\n",
       "       [85.730995],\n",
       "       [86.5936  ],\n",
       "       [86.78806 ],\n",
       "       [86.79413 ],\n",
       "       [86.71141 ],\n",
       "       [86.46763 ],\n",
       "       [86.018456],\n",
       "       [85.9202  ],\n",
       "       [86.425735],\n",
       "       [86.75923 ],\n",
       "       [86.7165  ],\n",
       "       [86.588974],\n",
       "       [86.04543 ],\n",
       "       [85.14485 ],\n",
       "       [84.046585],\n",
       "       [82.80032 ],\n",
       "       [82.17443 ],\n",
       "       [81.83217 ],\n",
       "       [81.84434 ],\n",
       "       [82.21553 ],\n",
       "       [82.68384 ],\n",
       "       [83.191086],\n",
       "       [83.52338 ],\n",
       "       [83.317795],\n",
       "       [82.697876],\n",
       "       [82.11221 ],\n",
       "       [81.90896 ],\n",
       "       [81.888336],\n",
       "       [82.21921 ],\n",
       "       [82.339485],\n",
       "       [82.2736  ],\n",
       "       [81.95441 ],\n",
       "       [81.306114],\n",
       "       [80.701935],\n",
       "       [80.60574 ],\n",
       "       [81.308235],\n",
       "       [81.80555 ],\n",
       "       [81.86997 ],\n",
       "       [81.39188 ],\n",
       "       [81.25727 ],\n",
       "       [81.00253 ],\n",
       "       [80.77024 ],\n",
       "       [79.88462 ],\n",
       "       [78.35196 ],\n",
       "       [77.44375 ],\n",
       "       [77.64935 ],\n",
       "       [78.52819 ],\n",
       "       [79.478004],\n",
       "       [80.38661 ],\n",
       "       [81.183556],\n",
       "       [81.387535],\n",
       "       [81.32431 ],\n",
       "       [81.17784 ],\n",
       "       [81.32287 ],\n",
       "       [82.23732 ],\n",
       "       [82.923515],\n",
       "       [83.410446],\n",
       "       [83.89015 ],\n",
       "       [84.84064 ],\n",
       "       [85.89978 ],\n",
       "       [86.726875],\n",
       "       [84.659645],\n",
       "       [82.75685 ],\n",
       "       [82.343575],\n",
       "       [83.16781 ],\n",
       "       [84.90686 ],\n",
       "       [85.338905],\n",
       "       [85.25543 ],\n",
       "       [86.05743 ],\n",
       "       [87.40505 ],\n",
       "       [88.69333 ],\n",
       "       [89.67278 ],\n",
       "       [90.059616],\n",
       "       [90.01376 ],\n",
       "       [89.52182 ],\n",
       "       [89.32287 ],\n",
       "       [88.41742 ],\n",
       "       [87.318596],\n",
       "       [86.94051 ],\n",
       "       [87.210625],\n",
       "       [87.26241 ],\n",
       "       [86.78187 ],\n",
       "       [86.10377 ],\n",
       "       [85.678635],\n",
       "       [85.7347  ],\n",
       "       [85.64788 ],\n",
       "       [85.47927 ],\n",
       "       [84.69927 ],\n",
       "       [84.322525],\n",
       "       [83.91807 ],\n",
       "       [82.55577 ],\n",
       "       [80.76098 ],\n",
       "       [79.2533  ],\n",
       "       [78.053   ],\n",
       "       [77.09376 ],\n",
       "       [76.24952 ],\n",
       "       [76.31942 ],\n",
       "       [77.006966],\n",
       "       [77.634224],\n",
       "       [77.840096],\n",
       "       [77.314316],\n",
       "       [76.34686 ],\n",
       "       [75.50074 ],\n",
       "       [74.71733 ],\n",
       "       [74.12988 ],\n",
       "       [73.70005 ],\n",
       "       [73.142426],\n",
       "       [72.39637 ],\n",
       "       [72.45125 ],\n",
       "       [72.66735 ],\n",
       "       [72.55542 ],\n",
       "       [71.975975],\n",
       "       [71.222176],\n",
       "       [70.01337 ],\n",
       "       [68.77746 ],\n",
       "       [67.718834],\n",
       "       [66.9445  ],\n",
       "       [66.41776 ],\n",
       "       [66.23746 ],\n",
       "       [66.16826 ],\n",
       "       [65.85221 ],\n",
       "       [65.389946],\n",
       "       [65.06263 ],\n",
       "       [65.07567 ],\n",
       "       [63.931725],\n",
       "       [62.870174],\n",
       "       [62.20622 ],\n",
       "       [62.155575],\n",
       "       [62.285225],\n",
       "       [62.24369 ],\n",
       "       [61.92502 ],\n",
       "       [61.705036],\n",
       "       [61.637848],\n",
       "       [61.75153 ],\n",
       "       [61.88172 ],\n",
       "       [61.822994],\n",
       "       [61.483665],\n",
       "       [60.975815],\n",
       "       [60.537056],\n",
       "       [60.010014],\n",
       "       [59.588577],\n",
       "       [59.41158 ],\n",
       "       [59.413975],\n",
       "       [59.291115],\n",
       "       [58.98008 ],\n",
       "       [58.6204  ],\n",
       "       [58.201626],\n",
       "       [57.486507],\n",
       "       [56.85588 ],\n",
       "       [56.485115],\n",
       "       [56.4247  ],\n",
       "       [56.86174 ],\n",
       "       [57.34983 ],\n",
       "       [57.712494],\n",
       "       [57.85973 ],\n",
       "       [57.753384],\n",
       "       [57.72348 ],\n",
       "       [57.811394],\n",
       "       [57.774445],\n",
       "       [57.450512],\n",
       "       [56.95475 ],\n",
       "       [56.287598],\n",
       "       [55.765533],\n",
       "       [55.161255],\n",
       "       [54.927444],\n",
       "       [55.06368 ],\n",
       "       [55.05292 ],\n",
       "       [55.330765],\n",
       "       [55.78127 ],\n",
       "       [56.443913],\n",
       "       [56.821136],\n",
       "       [56.80499 ],\n",
       "       [56.822075],\n",
       "       [57.110535],\n",
       "       [57.69345 ],\n",
       "       [58.52025 ],\n",
       "       [58.873055],\n",
       "       [59.016556],\n",
       "       [59.01303 ],\n",
       "       [58.873013],\n",
       "       [58.660778],\n",
       "       [58.859245],\n",
       "       [59.137062],\n",
       "       [59.395565],\n",
       "       [59.26504 ],\n",
       "       [59.135292],\n",
       "       [59.040302],\n",
       "       [58.724117],\n",
       "       [58.535908],\n",
       "       [58.664314],\n",
       "       [59.77039 ],\n",
       "       [60.83302 ],\n",
       "       [61.35218 ],\n",
       "       [60.899216],\n",
       "       [60.205826],\n",
       "       [59.35456 ],\n",
       "       [58.14664 ],\n",
       "       [56.741604],\n",
       "       [55.94308 ],\n",
       "       [55.428658],\n",
       "       [55.131336],\n",
       "       [55.32359 ],\n",
       "       [55.946   ],\n",
       "       [56.97754 ],\n",
       "       [57.972042],\n",
       "       [58.786713],\n",
       "       [59.054058],\n",
       "       [59.179626],\n",
       "       [59.21541 ],\n",
       "       [59.855545],\n",
       "       [60.468998],\n",
       "       [60.29099 ],\n",
       "       [59.592983],\n",
       "       [58.717274],\n",
       "       [57.946354],\n",
       "       [57.249958],\n",
       "       [56.505104],\n",
       "       [56.187912],\n",
       "       [56.323303],\n",
       "       [56.556458],\n",
       "       [56.228218],\n",
       "       [55.85327 ],\n",
       "       [56.039886],\n",
       "       [56.542572],\n",
       "       [57.03433 ],\n",
       "       [57.350327],\n",
       "       [56.94021 ],\n",
       "       [56.067844],\n",
       "       [55.5883  ],\n",
       "       [55.05579 ],\n",
       "       [54.394268],\n",
       "       [53.923264],\n",
       "       [54.034767],\n",
       "       [54.942436],\n",
       "       [55.760056],\n",
       "       [56.265987],\n",
       "       [56.29011 ],\n",
       "       [55.863323],\n",
       "       [55.298595],\n",
       "       [54.8177  ],\n",
       "       [54.21139 ],\n",
       "       [54.491657],\n",
       "       [55.431236],\n",
       "       [56.48258 ],\n",
       "       [57.22356 ],\n",
       "       [57.87664 ],\n",
       "       [57.949646],\n",
       "       [57.908863],\n",
       "       [58.092888],\n",
       "       [58.525314],\n",
       "       [58.548084],\n",
       "       [58.235657],\n",
       "       [57.74398 ],\n",
       "       [57.56732 ],\n",
       "       [56.913246],\n",
       "       [55.9722  ],\n",
       "       [54.952553],\n",
       "       [54.11971 ],\n",
       "       [53.60677 ],\n",
       "       [53.169395],\n",
       "       [53.00165 ],\n",
       "       [53.023643],\n",
       "       [53.081837],\n",
       "       [52.87439 ],\n",
       "       [52.447697],\n",
       "       [51.790043],\n",
       "       [51.086468],\n",
       "       [50.61098 ],\n",
       "       [50.39868 ],\n",
       "       [50.146225],\n",
       "       [49.898693],\n",
       "       [49.567554],\n",
       "       [49.308983],\n",
       "       [48.996086],\n",
       "       [48.522472],\n",
       "       [48.562874],\n",
       "       [48.817966],\n",
       "       [49.17654 ],\n",
       "       [49.589993],\n",
       "       [49.678024],\n",
       "       [49.67766 ],\n",
       "       [49.837887],\n",
       "       [50.011333],\n",
       "       [50.237858],\n",
       "       [50.72678 ],\n",
       "       [51.20273 ],\n",
       "       [51.612656],\n",
       "       [51.92734 ],\n",
       "       [51.94702 ],\n",
       "       [51.472935],\n",
       "       [50.968807],\n",
       "       [50.64676 ],\n",
       "       [50.43062 ],\n",
       "       [50.26134 ],\n",
       "       [50.39938 ],\n",
       "       [50.753815],\n",
       "       [50.93487 ],\n",
       "       [50.769127],\n",
       "       [50.66421 ],\n",
       "       [50.936012],\n",
       "       [51.360783],\n",
       "       [51.777664],\n",
       "       [52.07519 ],\n",
       "       [52.184868],\n",
       "       [52.206524],\n",
       "       [52.192123],\n",
       "       [52.219387],\n",
       "       [52.198948],\n",
       "       [52.16896 ],\n",
       "       [52.210255],\n",
       "       [52.16071 ],\n",
       "       [52.242085],\n",
       "       [52.425526],\n",
       "       [52.564594],\n",
       "       [52.653885],\n",
       "       [52.29014 ],\n",
       "       [51.51718 ],\n",
       "       [50.543026],\n",
       "       [49.968155],\n",
       "       [49.91718 ],\n",
       "       [50.113655],\n",
       "       [50.16529 ],\n",
       "       [50.17367 ],\n",
       "       [50.38266 ],\n",
       "       [50.639412],\n",
       "       [50.897953],\n",
       "       [50.995842],\n",
       "       [51.15895 ],\n",
       "       [51.54946 ],\n",
       "       [51.88869 ],\n",
       "       [52.151234],\n",
       "       [52.275978],\n",
       "       [52.449932],\n",
       "       [52.479965],\n",
       "       [52.136448],\n",
       "       [51.584915],\n",
       "       [51.287056],\n",
       "       [51.03078 ],\n",
       "       [50.702435],\n",
       "       [50.524773],\n",
       "       [50.46781 ],\n",
       "       [50.85249 ],\n",
       "       [51.711933],\n",
       "       [52.202824],\n",
       "       [52.30582 ],\n",
       "       [52.498833],\n",
       "       [52.768406],\n",
       "       [53.07062 ],\n",
       "       [53.36879 ],\n",
       "       [53.49569 ],\n",
       "       [53.198444],\n",
       "       [52.889835],\n",
       "       [52.735577],\n",
       "       [52.421673],\n",
       "       [51.963367],\n",
       "       [51.554527],\n",
       "       [51.306416],\n",
       "       [51.815876],\n",
       "       [52.595264],\n",
       "       [53.352455],\n",
       "       [53.67964 ],\n",
       "       [53.681507],\n",
       "       [53.479134],\n",
       "       [53.249374],\n",
       "       [53.180714],\n",
       "       [53.07684 ],\n",
       "       [52.80544 ],\n",
       "       [52.339935],\n",
       "       [51.854237],\n",
       "       [51.625973],\n",
       "       [51.52554 ],\n",
       "       [51.230953],\n",
       "       [51.055473],\n",
       "       [51.185154],\n",
       "       [51.37406 ],\n",
       "       [51.276627],\n",
       "       [50.81857 ],\n",
       "       [50.32422 ],\n",
       "       [50.18203 ],\n",
       "       [50.62157 ],\n",
       "       [50.755524],\n",
       "       [51.210514],\n",
       "       [51.59106 ],\n",
       "       [51.70639 ],\n",
       "       [51.65026 ],\n",
       "       [51.456974],\n",
       "       [51.024757],\n",
       "       [50.63732 ],\n",
       "       [50.31194 ],\n",
       "       [50.086277]], dtype=float32)"
      ]
     },
     "execution_count": 61,
     "metadata": {},
     "output_type": "execute_result"
    }
   ],
   "source": [
    "test_predict"
   ]
  },
  {
   "cell_type": "code",
   "execution_count": 62,
   "id": "49fd2c99",
   "metadata": {},
   "outputs": [],
   "source": [
    "y_train=y_train.reshape(-1,1)"
   ]
  },
  {
   "cell_type": "code",
   "execution_count": 63,
   "id": "283d23f3",
   "metadata": {},
   "outputs": [
    {
     "data": {
      "image/png": "[encoded data removed]",
      "text/plain": [
       "<Figure size 640x480 with 1 Axes>"
      ]
     },
     "metadata": {},
     "output_type": "display_data"
    }
   ],
   "source": [
    "\n",
    "plt.plot(train_predict, color = 'BLUE', label = 'Predicted Apple Stock Price(Train)')\n",
    "plt.plot(y_train, color = 'red', label = 'Real Apple Stock Price(Train)')\n",
    "plt.title('Apple Stock Price Prediction')\n",
    "plt.xlabel('Time')\n",
    "plt.ylabel('Apple Stock Price')\n",
    "plt.legend()\n",
    "plt.show()"
   ]
  },
  {
   "cell_type": "code",
   "execution_count": 64,
   "id": "b2c79f9f",
   "metadata": {},
   "outputs": [
    {
     "data": {
      "image/png": "[encoded data removed]",
      "text/plain": [
       "<Figure size 640x480 with 1 Axes>"
      ]
     },
     "metadata": {},
     "output_type": "display_data"
    }
   ],
   "source": [
    "plt.plot(test_predict, color = 'blue', label = 'Predicted Apple Stock Price(Test)')\n",
    "plt.plot(y_test, color = 'red', label = 'Real Apple Stock Price(Test)')\n",
    "plt.title('Apple Stock Price Prediction')\n",
    "plt.xlabel('Time')\n",
    "plt.ylabel('Apple Stock Price')\n",
    "plt.legend()\n",
    "plt.show()"
   ]
  },
  {
   "cell_type": "code",
   "execution_count": 65,
   "id": "a8bf3279",
   "metadata": {},
   "outputs": [
    {
     "data": {
      "image/png": "[encoded data removed]",
      "text/plain": [
       "<Figure size 640x480 with 1 Axes>"
      ]
     },
     "metadata": {},
     "output_type": "display_data"
    }
   ],
   "source": [
    "plt.plot(y_test, color = 'red', label = 'Real Apple Stock Price')\n",
    "plt.show()"
   ]
  },
  {
   "cell_type": "code",
   "execution_count": 66,
   "id": "31f311e8",
   "metadata": {},
   "outputs": [
    {
     "data": {
      "text/plain": [
       "(406, 1)"
      ]
     },
     "execution_count": 66,
     "metadata": {},
     "output_type": "execute_result"
    }
   ],
   "source": [
    "testPredict.shape"
   ]
  },
  {
   "cell_type": "code",
   "execution_count": 67,
   "id": "ea435d7c",
   "metadata": {},
   "outputs": [],
   "source": [
    "import math\n",
    "from sklearn.metrics import mean_squared_error"
   ]
  },
  {
   "cell_type": "code",
   "execution_count": 68,
   "id": "a35e4c66",
   "metadata": {},
   "outputs": [
    {
     "name": "stdout",
     "output_type": "stream",
     "text": [
      "Train RMSE: 1.97\n",
      "Test RMSE: 2.27\n"
     ]
    }
   ],
   "source": [
    "RMSE = math.sqrt(mean_squared_error(y_train,train_predict))\n",
    "print('Train RMSE: %.2f' % (RMSE))\n",
    "\n",
    "RMSE = math.sqrt(mean_squared_error(y_test,test_predict))\n",
    "print('Test RMSE: %.2f' % (RMSE))"
   ]
  },
  {
   "cell_type": "code",
   "execution_count": 69,
   "id": "336c35a6",
   "metadata": {},
   "outputs": [
    {
     "name": "stdout",
     "output_type": "stream",
     "text": [
      "Train MAE: 1.21\n"
     ]
    }
   ],
   "source": [
    "from sklearn.metrics import mean_absolute_error\n",
    "MAE = math.sqrt(mean_absolute_error(y_train,train_predict))\n",
    "print('Train MAE: %.2f' % (MAE))"
   ]
  },
  {
   "cell_type": "code",
   "execution_count": 70,
   "id": "63e86111",
   "metadata": {},
   "outputs": [
    {
     "name": "stdout",
     "output_type": "stream",
     "text": [
      "Test MAE: 1.41\n"
     ]
    }
   ],
   "source": [
    "from sklearn.metrics import mean_absolute_error\n",
    "MAE = math.sqrt(mean_absolute_error(y_test,test_predict))\n",
    "print('Test MAE: %.2f' % (MAE))"
   ]
  },
  {
   "cell_type": "code",
   "execution_count": 71,
   "id": "f7096853",
   "metadata": {},
   "outputs": [
    {
     "name": "stdout",
     "output_type": "stream",
     "text": [
      "Collecting jupyterthemes\n",
      "  Downloading jupyterthemes-0.20.0-py2.py3-none-any.whl (7.0 MB)\n",
      "     ---------------------------------------- 7.0/7.0 MB 12.5 MB/s eta 0:00:00\n",
      "Requirement already satisfied: matplotlib>=1.4.3 in c:\\users\\itd\\anaconda3\\lib\\site-packages (from jupyterthemes) (3.7.0)\n",
      "Requirement already satisfied: notebook>=5.6.0 in c:\\users\\itd\\anaconda3\\lib\\site-packages (from jupyterthemes) (6.5.2)\n",
      "Requirement already satisfied: ipython>=5.4.1 in c:\\users\\itd\\anaconda3\\lib\\site-packages (from jupyterthemes) (8.10.0)\n",
      "Collecting lesscpy>=0.11.2\n",
      "  Downloading lesscpy-0.15.1-py2.py3-none-any.whl (46 kB)\n",
      "     ---------------------------------------- 46.7/46.7 kB 2.3 MB/s eta 0:00:00\n",
      "Requirement already satisfied: jupyter-core in c:\\users\\itd\\anaconda3\\lib\\site-packages (from jupyterthemes) (5.2.0)\n",
      "Requirement already satisfied: jedi>=0.16 in c:\\users\\itd\\anaconda3\\lib\\site-packages (from ipython>=5.4.1->jupyterthemes) (0.18.1)\n",
      "Requirement already satisfied: pygments>=2.4.0 in c:\\users\\itd\\anaconda3\\lib\\site-packages (from ipython>=5.4.1->jupyterthemes) (2.11.2)\n",
      "Requirement already satisfied: traitlets>=5 in c:\\users\\itd\\anaconda3\\lib\\site-packages (from ipython>=5.4.1->jupyterthemes) (5.7.1)\n",
      "Requirement already satisfied: pickleshare in c:\\users\\itd\\anaconda3\\lib\\site-packages (from ipython>=5.4.1->jupyterthemes) (0.7.5)\n",
      "Requirement already satisfied: stack-data in c:\\users\\itd\\anaconda3\\lib\\site-packages (from ipython>=5.4.1->jupyterthemes) (0.2.0)\n",
      "Requirement already satisfied: colorama in c:\\users\\itd\\anaconda3\\lib\\site-packages (from ipython>=5.4.1->jupyterthemes) (0.4.6)\n",
      "Requirement already satisfied: backcall in c:\\users\\itd\\anaconda3\\lib\\site-packages (from ipython>=5.4.1->jupyterthemes) (0.2.0)\n",
      "Requirement already satisfied: decorator in c:\\users\\itd\\anaconda3\\lib\\site-packages (from ipython>=5.4.1->jupyterthemes) (5.1.1)\n",
      "Requirement already satisfied: prompt-toolkit<3.1.0,>=3.0.30 in c:\\users\\itd\\anaconda3\\lib\\site-packages (from ipython>=5.4.1->jupyterthemes) (3.0.36)\n",
      "Requirement already satisfied: matplotlib-inline in c:\\users\\itd\\anaconda3\\lib\\site-packages (from ipython>=5.4.1->jupyterthemes) (0.1.6)\n",
      "Requirement already satisfied: ply in c:\\users\\itd\\anaconda3\\lib\\site-packages (from lesscpy>=0.11.2->jupyterthemes) (3.11)\n",
      "Requirement already satisfied: contourpy>=1.0.1 in c:\\users\\itd\\anaconda3\\lib\\site-packages (from matplotlib>=1.4.3->jupyterthemes) (1.0.5)\n",
      "Requirement already satisfied: pillow>=6.2.0 in c:\\users\\itd\\anaconda3\\lib\\site-packages (from matplotlib>=1.4.3->jupyterthemes) (9.4.0)\n",
      "Requirement already satisfied: fonttools>=4.22.0 in c:\\users\\itd\\anaconda3\\lib\\site-packages (from matplotlib>=1.4.3->jupyterthemes) (4.25.0)\n",
      "Requirement already satisfied: kiwisolver>=1.0.1 in c:\\users\\itd\\anaconda3\\lib\\site-packages (from matplotlib>=1.4.3->jupyterthemes) (1.4.4)\n",
      "Requirement already satisfied: pyparsing>=2.3.1 in c:\\users\\itd\\anaconda3\\lib\\site-packages (from matplotlib>=1.4.3->jupyterthemes) (3.0.9)\n",
      "Requirement already satisfied: numpy>=1.20 in c:\\users\\itd\\anaconda3\\lib\\site-packages (from matplotlib>=1.4.3->jupyterthemes) (1.23.5)\n",
      "Requirement already satisfied: packaging>=20.0 in c:\\users\\itd\\anaconda3\\lib\\site-packages (from matplotlib>=1.4.3->jupyterthemes) (22.0)\n",
      "Requirement already satisfied: cycler>=0.10 in c:\\users\\itd\\anaconda3\\lib\\site-packages (from matplotlib>=1.4.3->jupyterthemes) (0.11.0)\n",
      "Requirement already satisfied: python-dateutil>=2.7 in c:\\users\\itd\\anaconda3\\lib\\site-packages (from matplotlib>=1.4.3->jupyterthemes) (2.8.2)\n",
      "Requirement already satisfied: ipykernel in c:\\users\\itd\\anaconda3\\lib\\site-packages (from notebook>=5.6.0->jupyterthemes) (6.19.2)\n",
      "Requirement already satisfied: Send2Trash>=1.8.0 in c:\\users\\itd\\anaconda3\\lib\\site-packages (from notebook>=5.6.0->jupyterthemes) (1.8.0)\n",
      "Requirement already satisfied: nest-asyncio>=1.5 in c:\\users\\itd\\anaconda3\\lib\\site-packages (from notebook>=5.6.0->jupyterthemes) (1.5.6)\n",
      "Requirement already satisfied: terminado>=0.8.3 in c:\\users\\itd\\anaconda3\\lib\\site-packages (from notebook>=5.6.0->jupyterthemes) (0.17.1)\n",
      "Requirement already satisfied: jinja2 in c:\\users\\itd\\anaconda3\\lib\\site-packages (from notebook>=5.6.0->jupyterthemes) (3.1.2)\n",
      "Requirement already satisfied: prometheus-client in c:\\users\\itd\\anaconda3\\lib\\site-packages (from notebook>=5.6.0->jupyterthemes) (0.14.1)\n",
      "Requirement already satisfied: ipython-genutils in c:\\users\\itd\\anaconda3\\lib\\site-packages (from notebook>=5.6.0->jupyterthemes) (0.2.0)\n",
      "Requirement already satisfied: argon2-cffi in c:\\users\\itd\\anaconda3\\lib\\site-packages (from notebook>=5.6.0->jupyterthemes) (21.3.0)\n",
      "Requirement already satisfied: nbformat in c:\\users\\itd\\anaconda3\\lib\\site-packages (from notebook>=5.6.0->jupyterthemes) (5.7.0)\n",
      "Requirement already satisfied: jupyter-client>=5.3.4 in c:\\users\\itd\\anaconda3\\lib\\site-packages (from notebook>=5.6.0->jupyterthemes) (7.3.4)\n",
      "Requirement already satisfied: nbclassic>=0.4.7 in c:\\users\\itd\\anaconda3\\lib\\site-packages (from notebook>=5.6.0->jupyterthemes) (0.5.2)\n",
      "Requirement already satisfied: tornado>=6.1 in c:\\users\\itd\\anaconda3\\lib\\site-packages (from notebook>=5.6.0->jupyterthemes) (6.1)\n",
      "Requirement already satisfied: pyzmq>=17 in c:\\users\\itd\\anaconda3\\lib\\site-packages (from notebook>=5.6.0->jupyterthemes) (23.2.0)\n",
      "Requirement already satisfied: nbconvert>=5 in c:\\users\\itd\\anaconda3\\lib\\site-packages (from notebook>=5.6.0->jupyterthemes) (6.5.4)\n",
      "Requirement already satisfied: pywin32>=1.0 in c:\\users\\itd\\anaconda3\\lib\\site-packages (from jupyter-core->jupyterthemes) (305.1)\n",
      "Requirement already satisfied: platformdirs>=2.5 in c:\\users\\itd\\anaconda3\\lib\\site-packages (from jupyter-core->jupyterthemes) (2.5.2)\n",
      "Requirement already satisfied: parso<0.9.0,>=0.8.0 in c:\\users\\itd\\anaconda3\\lib\\site-packages (from jedi>=0.16->ipython>=5.4.1->jupyterthemes) (0.8.3)\n",
      "Requirement already satisfied: entrypoints in c:\\users\\itd\\anaconda3\\lib\\site-packages (from jupyter-client>=5.3.4->notebook>=5.6.0->jupyterthemes) (0.4)\n",
      "Requirement already satisfied: notebook-shim>=0.1.0 in c:\\users\\itd\\anaconda3\\lib\\site-packages (from nbclassic>=0.4.7->notebook>=5.6.0->jupyterthemes) (0.2.2)\n",
      "Requirement already satisfied: jupyter-server>=1.8 in c:\\users\\itd\\anaconda3\\lib\\site-packages (from nbclassic>=0.4.7->notebook>=5.6.0->jupyterthemes) (1.23.4)\n",
      "Requirement already satisfied: beautifulsoup4 in c:\\users\\itd\\anaconda3\\lib\\site-packages (from nbconvert>=5->notebook>=5.6.0->jupyterthemes) (4.11.1)\n",
      "Requirement already satisfied: defusedxml in c:\\users\\itd\\anaconda3\\lib\\site-packages (from nbconvert>=5->notebook>=5.6.0->jupyterthemes) (0.7.1)\n",
      "Requirement already satisfied: jupyterlab-pygments in c:\\users\\itd\\anaconda3\\lib\\site-packages (from nbconvert>=5->notebook>=5.6.0->jupyterthemes) (0.1.2)\n",
      "Requirement already satisfied: tinycss2 in c:\\users\\itd\\anaconda3\\lib\\site-packages (from nbconvert>=5->notebook>=5.6.0->jupyterthemes) (1.2.1)\n",
      "Requirement already satisfied: lxml in c:\\users\\itd\\anaconda3\\lib\\site-packages (from nbconvert>=5->notebook>=5.6.0->jupyterthemes) (4.9.1)\n",
      "Requirement already satisfied: mistune<2,>=0.8.1 in c:\\users\\itd\\anaconda3\\lib\\site-packages (from nbconvert>=5->notebook>=5.6.0->jupyterthemes) (0.8.4)\n",
      "Requirement already satisfied: MarkupSafe>=2.0 in c:\\users\\itd\\anaconda3\\lib\\site-packages (from nbconvert>=5->notebook>=5.6.0->jupyterthemes) (2.1.1)\n",
      "Requirement already satisfied: pandocfilters>=1.4.1 in c:\\users\\itd\\anaconda3\\lib\\site-packages (from nbconvert>=5->notebook>=5.6.0->jupyterthemes) (1.5.0)\n",
      "Requirement already satisfied: nbclient>=0.5.0 in c:\\users\\itd\\anaconda3\\lib\\site-packages (from nbconvert>=5->notebook>=5.6.0->jupyterthemes) (0.5.13)\n",
      "Requirement already satisfied: bleach in c:\\users\\itd\\anaconda3\\lib\\site-packages (from nbconvert>=5->notebook>=5.6.0->jupyterthemes) (4.1.0)\n",
      "Requirement already satisfied: jsonschema>=2.6 in c:\\users\\itd\\anaconda3\\lib\\site-packages (from nbformat->notebook>=5.6.0->jupyterthemes) (4.17.3)\n",
      "Requirement already satisfied: fastjsonschema in c:\\users\\itd\\anaconda3\\lib\\site-packages (from nbformat->notebook>=5.6.0->jupyterthemes) (2.16.2)\n",
      "Requirement already satisfied: wcwidth in c:\\users\\itd\\anaconda3\\lib\\site-packages (from prompt-toolkit<3.1.0,>=3.0.30->ipython>=5.4.1->jupyterthemes) (0.2.5)\n",
      "Requirement already satisfied: six>=1.5 in c:\\users\\itd\\anaconda3\\lib\\site-packages (from python-dateutil>=2.7->matplotlib>=1.4.3->jupyterthemes) (1.16.0)\n",
      "Requirement already satisfied: pywinpty>=1.1.0 in c:\\users\\itd\\anaconda3\\lib\\site-packages (from terminado>=0.8.3->notebook>=5.6.0->jupyterthemes) (2.0.10)\n",
      "Requirement already satisfied: argon2-cffi-bindings in c:\\users\\itd\\anaconda3\\lib\\site-packages (from argon2-cffi->notebook>=5.6.0->jupyterthemes) (21.2.0)\n",
      "Requirement already satisfied: debugpy>=1.0 in c:\\users\\itd\\anaconda3\\lib\\site-packages (from ipykernel->notebook>=5.6.0->jupyterthemes) (1.5.1)\n",
      "Requirement already satisfied: comm>=0.1.1 in c:\\users\\itd\\anaconda3\\lib\\site-packages (from ipykernel->notebook>=5.6.0->jupyterthemes) (0.1.2)\n",
      "Requirement already satisfied: psutil in c:\\users\\itd\\anaconda3\\lib\\site-packages (from ipykernel->notebook>=5.6.0->jupyterthemes) (5.9.0)\n",
      "Requirement already satisfied: executing in c:\\users\\itd\\anaconda3\\lib\\site-packages (from stack-data->ipython>=5.4.1->jupyterthemes) (0.8.3)\n",
      "Requirement already satisfied: asttokens in c:\\users\\itd\\anaconda3\\lib\\site-packages (from stack-data->ipython>=5.4.1->jupyterthemes) (2.0.5)\n",
      "Requirement already satisfied: pure-eval in c:\\users\\itd\\anaconda3\\lib\\site-packages (from stack-data->ipython>=5.4.1->jupyterthemes) (0.2.2)\n",
      "Requirement already satisfied: pyrsistent!=0.17.0,!=0.17.1,!=0.17.2,>=0.14.0 in c:\\users\\itd\\anaconda3\\lib\\site-packages (from jsonschema>=2.6->nbformat->notebook>=5.6.0->jupyterthemes) (0.18.0)\n",
      "Requirement already satisfied: attrs>=17.4.0 in c:\\users\\itd\\anaconda3\\lib\\site-packages (from jsonschema>=2.6->nbformat->notebook>=5.6.0->jupyterthemes) (22.1.0)\n",
      "Requirement already satisfied: anyio<4,>=3.1.0 in c:\\users\\itd\\anaconda3\\lib\\site-packages (from jupyter-server>=1.8->nbclassic>=0.4.7->notebook>=5.6.0->jupyterthemes) (3.5.0)\n",
      "Requirement already satisfied: websocket-client in c:\\users\\itd\\anaconda3\\lib\\site-packages (from jupyter-server>=1.8->nbclassic>=0.4.7->notebook>=5.6.0->jupyterthemes) (0.58.0)\n",
      "Requirement already satisfied: cffi>=1.0.1 in c:\\users\\itd\\anaconda3\\lib\\site-packages (from argon2-cffi-bindings->argon2-cffi->notebook>=5.6.0->jupyterthemes) (1.15.1)\n",
      "Requirement already satisfied: soupsieve>1.2 in c:\\users\\itd\\anaconda3\\lib\\site-packages (from beautifulsoup4->nbconvert>=5->notebook>=5.6.0->jupyterthemes) (2.3.2.post1)\n",
      "Requirement already satisfied: webencodings in c:\\users\\itd\\anaconda3\\lib\\site-packages (from bleach->nbconvert>=5->notebook>=5.6.0->jupyterthemes) (0.5.1)\n",
      "Requirement already satisfied: sniffio>=1.1 in c:\\users\\itd\\anaconda3\\lib\\site-packages (from anyio<4,>=3.1.0->jupyter-server>=1.8->nbclassic>=0.4.7->notebook>=5.6.0->jupyterthemes) (1.2.0)\n",
      "Requirement already satisfied: idna>=2.8 in c:\\users\\itd\\anaconda3\\lib\\site-packages (from anyio<4,>=3.1.0->jupyter-server>=1.8->nbclassic>=0.4.7->notebook>=5.6.0->jupyterthemes) (3.4)\n",
      "Requirement already satisfied: pycparser in c:\\users\\itd\\anaconda3\\lib\\site-packages (from cffi>=1.0.1->argon2-cffi-bindings->argon2-cffi->notebook>=5.6.0->jupyterthemes) (2.21)\n",
      "Installing collected packages: lesscpy, jupyterthemes\n",
      "Successfully installed jupyterthemes-0.20.0 lesscpy-0.15.1\n",
      "Note: you may need to restart the kernel to use updated packages.\n"
     ]
    }
   ],
   "source": [
    "pip install jupyterthemes"
   ]
  },
  {
   "cell_type": "code",
   "execution_count": 73,
   "id": "9ddb104c",
   "metadata": {},
   "outputs": [
    {
     "ename": "NameError",
     "evalue": "name 'jupyterthemes' is not defined",
     "output_type": "error",
     "traceback": [
      "\u001b[1;31m---------------------------------------------------------------------------\u001b[0m",
      "\u001b[1;31mNameError\u001b[0m                                 Traceback (most recent call last)",
      "Cell \u001b[1;32mIn[73], line 1\u001b[0m\n\u001b[1;32m----> 1\u001b[0m \u001b[43mjupyterthemes\u001b[49m \u001b[38;5;241m-\u001b[39ml\n",
      "\u001b[1;31mNameError\u001b[0m: name 'jupyterthemes' is not defined"
     ]
    }
   ],
   "source": [
    "jupyterthemes -l"
   ]
  },
  {
   "cell_type": "code",
   "execution_count": null,
   "id": "0c2dbb08",
   "metadata": {},
   "outputs": [],
   "source": []
  }
 ],
 "metadata": {
  "kernelspec": {
   "display_name": "Python 3 (ipykernel)",
   "language": "python",
   "name": "python3"
  },
  "language_info": {
   "codemirror_mode": {
    "name": "ipython",
    "version": 3
   },
   "file_extension": ".py",
   "mimetype": "text/x-python",
   "name": "python",
   "nbconvert_exporter": "python",
   "pygments_lexer": "ipython3",
   "version": "3.10.9"
  }
 },
 "nbformat": 4,
 "nbformat_minor": 5
}
